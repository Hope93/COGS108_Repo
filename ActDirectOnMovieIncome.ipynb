{
 "cells": [
  {
   "cell_type": "code",
   "execution_count": null,
   "metadata": {},
   "outputs": [],
   "source": [
    "import pandas as pd\n",
    "import matplotlib.pyplot as plt\n",
    "pd.options.display.max_rows = 60\n",
    "pd.options.display.max_columns = 30"
   ]
  },
  {
   "cell_type": "code",
   "execution_count": null,
   "metadata": {},
   "outputs": [],
   "source": [
    "movies_df = pd.read_csv( \"movie_metadata.csv\" )"
   ]
  },
  {
   "cell_type": "code",
   "execution_count": null,
   "metadata": {},
   "outputs": [],
   "source": [
    "#check column labels\n",
    "movies_df.columns"
   ]
  },
  {
   "cell_type": "code",
   "execution_count": null,
   "metadata": {},
   "outputs": [],
   "source": [
    "#drop movies that aren't in english\n",
    "movies_df = movies_df.drop(movies_df[movies_df.language != \"English\"].index)"
   ]
  },
  {
   "cell_type": "code",
   "execution_count": null,
   "metadata": {},
   "outputs": [],
   "source": [
    "#drop labels we aren't likely interested in\n",
    "movies_df.drop( labels = [ 'color', 'duration', 'facenumber_in_poster', 'plot_keywords', 'movie_imdb_link', 'language',\n",
    "                       'content_rating', 'aspect_ratio', 'num_critic_for_reviews', 'num_user_for_reviews', 'budget' ],\n",
    "            axis = 1, inplace = True )"
   ]
  },
  {
   "cell_type": "code",
   "execution_count": null,
   "metadata": {},
   "outputs": [],
   "source": [
    "#rearrange column labels\n",
    "movies_df = movies_df [ [ 'movie_title', 'title_year', 'country', 'gross', 'director_name', 'director_facebook_likes',\n",
    "               'actor_1_name', 'actor_1_facebook_likes', 'actor_2_name', 'actor_2_facebook_likes', 'actor_3_name',\n",
    "               'actor_3_facebook_likes', 'cast_total_facebook_likes', 'movie_facebook_likes', 'imdb_score', 'num_voted_users',\n",
    "               'genres' ] ]"
   ]
  },
  {
   "cell_type": "code",
   "execution_count": null,
   "metadata": {},
   "outputs": [],
   "source": [
    "#drop movies where actors and directors with 0 likes\n",
    "movies_df = movies_df.drop(movies_df[movies_df.actor_1_facebook_likes == 0].index)\n",
    "movies_df = movies_df.drop(movies_df[movies_df.actor_2_facebook_likes == 0].index)\n",
    "movies_df = movies_df.drop(movies_df[movies_df.actor_3_facebook_likes == 0].index)\n",
    "movies_df = movies_df.drop(movies_df[movies_df.director_facebook_likes == 0].index)"
   ]
  },
  {
   "cell_type": "code",
   "execution_count": null,
   "metadata": {},
   "outputs": [],
   "source": [
    "#drop movies not in the US\n",
    "movies_df = movies_df.drop( movies_df[movies_df.country != 'USA'].index )\n",
    "#view number of rows left\n",
    "movies_df.shape"
   ]
  },
  {
   "cell_type": "code",
   "execution_count": null,
   "metadata": {},
   "outputs": [],
   "source": [
    "#checking if genres type and title type are string\n",
    "print(isinstance((movies_df.loc[1, 'genres']), str))\n",
    "print(isinstance((movies_df.loc[1, 'movie_title']), str))"
   ]
  },
  {
   "cell_type": "code",
   "execution_count": null,
   "metadata": {},
   "outputs": [],
   "source": [
    "#check if any of the genres entries is null, in this case none are so we don't have to worry about that in the next step\n",
    "movies_df.genres.isnull().sum()"
   ]
  },
  {
   "cell_type": "code",
   "execution_count": null,
   "metadata": {},
   "outputs": [],
   "source": [
    "#genres:\n",
    "#consider each genre seperately: extract genres delimited by \"|\" (pipeline)\n",
    "\n",
    "#this variable will store all genres in the movie dataset\n",
    "genre_dict = {}\n",
    "\n",
    "#sample if need to test. Note: not 50 entries because we dropped certain rows & some of the indeces from 0-49 were dropped\n",
    "#test = pd.DataFrame(movies.loc[0:49])\n",
    "\n",
    "\n",
    "#change this back to movies.genres\n",
    "for genres in movies_df.genres:\n",
    "    #remove spaces from string so that something like \"Action \" vs \" Action\" are not treated differently\n",
    "    genres_no_space = genres.strip()\n",
    "    #need to extract genre by delimiter |\n",
    "    genres_list = genres_no_space.split(\"|\")\n",
    "    \n",
    "    #this block of code adds the genre as a key in dictionary and updates the count\n",
    "    for genre in genres_list:\n",
    "        \n",
    "        #the key exists and we want to increment the count for movies with this genre\n",
    "        if genre in genre_dict:\n",
    "            genre_dict[genre] = genre_dict.get(genre) + 1   \n",
    "        else: #add this genre if it doesn't already exist in the dict\n",
    "            key_value = {genre : 1}\n",
    "            genre_dict.update(key_value)"
   ]
  },
  {
   "cell_type": "code",
   "execution_count": null,
   "metadata": {},
   "outputs": [],
   "source": [
    "#REMEMBER: only loop once per row checking every dict entry\n",
    "\n",
    "#list where we will store the genres. This is just convenient to have\n",
    "genre_list = []\n",
    "#add dictionary keys (genres) into our genre_list\n",
    "for key in genre_dict:\n",
    "    #don't add any genres whose corresponding movies count is less than 20, due to statistical insignificance\n",
    "    if genre_dict[key] >= 20:\n",
    "        genre_list.append(key)\n",
    "\n",
    "#list where we will store all the movie titles. This is made to create index column of dataframe\n",
    "movie_title_list = []\n",
    "for title in movies_df.movie_title:\n",
    "    movie_title_list.append(title)\n",
    "\n",
    "#create the df whose columns titles are genres, and index is movie titles\n",
    "movie_genre_df = pd.DataFrame(index = movie_title_list, columns = genre_list)\n",
    "movie_genre_df.index.name = 'MovieTitle'\n",
    "\n",
    "#fill the columns with 1 or 0, where 1 serves to tell us the movie belongs to the genre in the column title and 0 otherwise\n",
    "for movie in movies_df.index:\n",
    "    #current title of movie\n",
    "    title = movies_df.movie_title.loc[movie]\n",
    "    #current genre string of movie\n",
    "    genres_str = movies_df.genres.loc[movie]\n",
    "    \n",
    "    #We have a genre list from previous code. We can loop over list and check if\n",
    "    # current movie has certain genres. Note: will need movie title and genre\n",
    "    for genre in genre_list:      \n",
    "        #returns positive index of where substring was found in string, -1 if not found\n",
    "        i = genres_str.find(genre)\n",
    "        #if the genre is contained in the string then make the column corresponding to\n",
    "        #this genre and this title in the movies_genre_df to 1 otherwise make it 0  \n",
    "        if i >= 0:\n",
    "            movie_genre_df.at[title, genre] = 1\n",
    "        else:\n",
    "            movie_genre_df.at[title, genre] = 0"
   ]
  },
  {
   "cell_type": "code",
   "execution_count": null,
   "metadata": {},
   "outputs": [],
   "source": [
    "#check movie_df\n",
    "movies_df"
   ]
  },
  {
   "cell_type": "code",
   "execution_count": null,
   "metadata": {},
   "outputs": [],
   "source": [
    "#check movie_genre_df\n",
    "movie_genre_df"
   ]
  },
  {
   "cell_type": "code",
   "execution_count": null,
   "metadata": {},
   "outputs": [],
   "source": [
    "#note that this shows we have 446 null values in original movie dataset\n",
    "print(\"Number of all null rows: \", movies_df.isnull().any(axis = 1).sum())\n",
    "\n",
    "#this line shows the number of null values by column\n",
    "movies_df.isnull().sum()\n",
    "\n",
    "#TODO: next step is to deal with nulls"
   ]
  },
  {
   "cell_type": "code",
   "execution_count": null,
   "metadata": {},
   "outputs": [],
   "source": [
    "#drop all null values (466 values)\n",
    "movies_df.dropna(inplace = True)\n",
    "#check the shape, we know we had 3086 when we last checked the shape so: should be 3086 - 466 = 2640\n",
    "movies_df.shape"
   ]
  },
  {
   "cell_type": "code",
   "execution_count": null,
   "metadata": {},
   "outputs": [],
   "source": [
    "#Scatterplot for actor1_facebook_likes and movie gross\n",
    "scatter1 = movies_df.plot.scatter(x = \"actor_1_facebook_likes\", y = \"gross\")\n",
    "scatter1Mod = movies_df.plot.scatter(x = \"actor_1_facebook_likes\", y = \"gross\")\n",
    "print(scatter1)\n",
    "#plt.plot([0, 100000], scatter1.y, color = 'red')\n",
    "#Actual limit 600000. Few outliers beyond 100000, removing for better view of scatterplot\n",
    "scatter1Mod.set_xlim([0, 100000])\n",
    "print(scatter1Mod)\n",
    "\n",
    "scatter1.plot"
   ]
  },
  {
   "cell_type": "code",
   "execution_count": null,
   "metadata": {},
   "outputs": [],
   "source": [
    "#Scatterplot for actor2_facebook_likes and movie gross\n",
    "scatter2 = movies_df.plot.scatter(x = \"actor_2_facebook_likes\", y = \"gross\")\n",
    "scatter2Mod = movies_df.plot.scatter(x = \"actor_2_facebook_likes\", y = \"gross\")\n",
    "print(scatter2)\n",
    "\n",
    "#Actual limit 140000. Few outliers beyond 40000, removing for better view of scatterplot\n",
    "scatter2Mod.set_xlim([0, 40000])\n",
    "print(scatter2Mod)"
   ]
  },
  {
   "cell_type": "code",
   "execution_count": null,
   "metadata": {},
   "outputs": [],
   "source": [
    "#Scatterplot for actor3_facebook_likes and movie gross\n",
    "scatter3 = movies_df.plot.scatter(x = \"actor_3_facebook_likes\", y = \"gross\")\n",
    "scatter3Mod1 = movies_df.plot.scatter(x = \"actor_3_facebook_likes\", y = \"gross\")\n",
    "scatter3Mod2 = movies_df.plot.scatter(x = \"actor_3_facebook_likes\", y = \"gross\")\n",
    "scatter3Mod3 = movies_df.plot.scatter(x = \"actor_3_facebook_likes\", y = \"gross\")\n",
    "\n",
    "\n",
    "print(scatter3)\n",
    "\n",
    "#No notable outliers. Reducing Xlim to display more accurate scatter plot views\n",
    "scatter3Mod1.set_xlim([0, 3000])\n",
    "scatter3Mod2.set_xlim([0, 12000])\n",
    "scatter3Mod3.set_xlim([0, 1200])\n",
    "\n",
    "\n",
    "print(scatter3Mod1)\n",
    "print(scatter3Mod2)"
   ]
  },
  {
   "cell_type": "code",
   "execution_count": null,
   "metadata": {},
   "outputs": [],
   "source": [
    "#Scatterplot for director_facebook_likes and movie gross\n",
    "directScatter = movies_df.plot.scatter(x = \"director_facebook_likes\", y = \"gross\")\n",
    "\n",
    "print(directScatter)"
   ]
  }
 ],
 "metadata": {
  "kernelspec": {
   "display_name": "Python 3",
   "language": "python",
   "name": "python3"
  },
  "language_info": {
   "codemirror_mode": {
    "name": "ipython",
    "version": 3
   },
   "file_extension": ".py",
   "mimetype": "text/x-python",
   "name": "python",
   "nbconvert_exporter": "python",
   "pygments_lexer": "ipython3",
   "version": "3.6.7"
  }
 },
 "nbformat": 4,
 "nbformat_minor": 2
}
