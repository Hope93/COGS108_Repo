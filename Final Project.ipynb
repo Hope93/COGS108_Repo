{
 "cells": [
  {
   "cell_type": "markdown",
   "metadata": {},
   "source": [
    "# Star and Director Effects on Box Office Successes\n",
    "\n",
    "#### Group 64: Granny Smith Geckos\n",
    "- Amal Alhaidari (A98069538)\n",
    "- Brandon Tong (A13957535)\n",
    "- Weijin Xu (A13913775)\n",
    "- Quyen-Vi Nguyen (A13553619)\n",
    "\n",
    "### INTRO AND BACKGROUND\n",
    "\n",
    "#### Overview\n",
    "Discussed known information on movie success based on certain variables and isolated social media presence to be left out in many predictions. Located dataset of movies with social media measurement and cleaned extraneous information outside the scope of interest. Performed comparison of distributions and normality tests followed by regression models. Afterwards, concluded that social media presence is a poor indicator for a movie’s gross income\n",
    "\n",
    "#### Research Question\n",
    "Which is a better predictor of a movie’s gross income, the actors’ or the director’s FB likes?\n",
    "*Note: We generalize popularity to FB likes due to the nature of social media being used to promote certain individuals\n",
    "\n",
    "#### Background and Prior Work \n",
    "Since Barry Litman’s initial study of financial film success in 1983, multiple newer studies have tried to make more multiple regression models to find new or confirm old determinants of box office success. In their models, they compared revenue, as a dependent variable, to possible determinants of profitability as the independent variables. The overall evidence between multiple studies’ variables that have consistently shown to be significantly and positively correlated to revenue have been production cost, the assistance of a major distributor, academy award nominations, and sequels with the strongest relationship being production budget. Other possible factors such as critic reviews, time of release, advertising and specific genres are less certain since the correlational findings across different studies show contradictory results. Additionally, there have been other studies that have analyzed stock markets and simulations to look at the specific relationship between star power and box office performance, however these studies’ findings contradict each other, leading us to conclude that there are no conclusive findings yet. \n",
    "\n",
    "Our interest in this topic stems from the possibility of there being another possible measurement of star power and the effects it may have on the financial success of movies: social media. Social media has played a growing part in how society keeps up to date on what’s happening in pop culture. This project will use Facebook likes as a measurement of the attention a star or director garners from the public and correlate these values to see if these parts of the creative sphere affect the box office.\n",
    "\n",
    "References: \n",
    "* [Determinants of Motion Picture Box Office and Profitability: An Interrelationship Approach](https://www.marketingcenter.de/sites/mcm/files/downloads/research/lmm/literature/hennig-thurau_et_al._2007_rms_determinants_of_motion_picture_box_office_and_profitability_an_interrelationship_approach.pdf?fbclid=IwAR1ggtw2b3jv_UDPUuA69VFWVKoGRI4bx1QQtQtSNFbXuqr8ykiz3hStico)\n",
    "* [The Determinants Of Domestic Box Office Performance In The Motion Picture Industry](https://pdfs.semanticscholar.org/0d55/44616785fdd71f11dd83abbe189219c7299c.pdf?fbclid=IwAR3fPQGLCIow9cIwWbaOlp_AgFL_a-5JSkSNpYI6blPhzouiDlHp-nHh9Wg)\n",
    "* [The determinants of box office performance in the film industry revisited](https://pdfs.semanticscholar.org/c960/7aaa7746ec9735a19d0ab2e524e53d20ab7f.pdf)\n",
    "* [Power of Stars: So Star Actors Drive the Success of Movies?](http://www.people.hbs.edu/aelberse/publications/Elberse_2007.pdf)\n",
    "\n",
    "#### Hypothesis\n",
    "We believe that an actor’s popularity will be a stronger predictor of a movie’s gross income while the popularity of a director will be a stronger predictor of a movie’s rating. From this, a model can be made to predict a movie’s income based on the popularity of a director and actors\n"
   ]
  },
  {
   "cell_type": "markdown",
   "metadata": {},
   "source": [
    "### DATA ANALYSIS\n",
    "#### Set Up"
   ]
  },
  {
   "cell_type": "code",
   "execution_count": null,
   "metadata": {},
   "outputs": [],
   "source": [
    "import warnings\n",
    "warnings.filterwarnings('ignore')\n",
    "import pandas as pd\n",
    "import numpy as np\n",
    "import matplotlib.pyplot as plt\n",
    "import patsy\n",
    "import statsmodels.api as sm\n",
    "import scipy.stats as stats\n",
    "from scipy.stats import normaltest\n",
    "\n",
    "pd.options.display.max_rows = 14\n",
    "pd.options.display.max_columns = 5"
   ]
  },
  {
   "cell_type": "code",
   "execution_count": null,
   "metadata": {},
   "outputs": [],
   "source": [
    "#load the data\n",
    "movies_df = pd.read_csv( \"movie_metadata.csv\" )"
   ]
  },
  {
   "cell_type": "markdown",
   "metadata": {},
   "source": [
    "#### Data Cleaning and Pre-Processing\n",
    "When parsing through the IMDB 5000 Movie Dataset, we were only concerned with columns that were useful in identifying the movies, gross, cast, directors, and the Facebook likes connected to each entry. While cleaning our dataset, we wanted to focus our scope on US movies, so we dropped entries of movies that weren’t from the US and weren’t in English. Afterwards, we dropped columns that were unnecessary to our analysis of movie revenue and actor/director likes. We wanted to keep the genre column to consider the potential effect it may have along with the Facebook likes on the gross. We also dropped duplicates so they don't give us an illusion of how many distinct movie titles we actually have. Following that we discovered that there were duplicate titles that didn't match on every entry in the cell. Further investigation lead us to find that these duplicates differ on actor likes by around 1. We therefore decide to manually drop the 8 rows that have duplicate titles due to similar discrepencies in entered data. We then add a column for each genre that exists in the dataframe to assist us in our prediction of genre's effect with Facebook likes on the movie gross. Finally, as we decide to log transform the data to get a graph closer to a normal curve, we realize that some actor and director Facebook likes are 0, so we shift all the Facebook likes by 0.1."
   ]
  },
  {
   "cell_type": "code",
   "execution_count": null,
   "metadata": {},
   "outputs": [],
   "source": [
    "#drop labels we aren't interested in\n",
    "movies_df.drop( labels = [ 'color', 'duration', 'facenumber_in_poster',\n",
    "                          'plot_keywords', 'movie_imdb_link', 'imdb_score',\n",
    "                          'movie_facebook_likes', 'content_rating',\n",
    "                          'aspect_ratio', 'num_critic_for_reviews',\n",
    "                          'num_user_for_reviews', 'budget', 'num_voted_users',\n",
    "                          'cast_total_facebook_likes' ],\n",
    "               axis = 1, inplace = True )"
   ]
  },
  {
   "cell_type": "code",
   "execution_count": null,
   "metadata": {},
   "outputs": [],
   "source": [
    "#rearrange column labels\n",
    "movies_df = movies_df [ [ 'movie_title', 'title_year', 'country', 'language',\n",
    "                         'gross', 'director_name', 'director_facebook_likes', \n",
    "                         'actor_1_name', 'actor_1_facebook_likes', 'actor_2_name',\n",
    "                         'actor_2_facebook_likes', 'actor_3_name',\n",
    "                         'actor_3_facebook_likes', 'genres' ] ]"
   ]
  },
  {
   "cell_type": "code",
   "execution_count": null,
   "metadata": {},
   "outputs": [],
   "source": [
    "#drop potential duplicates\n",
    "movies_df.drop_duplicates(keep='first',inplace=True)\n",
    "#drop movies that aren't in english\n",
    "movies_df = movies_df.drop(movies_df[movies_df.language != \"English\"].index)\n",
    "#drop movies that aren't USA movies\n",
    "movies_df = movies_df.drop( movies_df[movies_df.country != 'USA'].index )\n",
    "#drop country and language\n",
    "movies_df.drop(labels = ['country', 'language'], axis = 1, inplace = True)"
   ]
  },
  {
   "cell_type": "code",
   "execution_count": null,
   "metadata": {},
   "outputs": [],
   "source": [
    "#check null values\n",
    "movies_df.isnull().sum()"
   ]
  },
  {
   "cell_type": "code",
   "execution_count": null,
   "metadata": {},
   "outputs": [],
   "source": [
    "#drop null values\n",
    "movies_df.dropna(inplace = True)\n",
    "#Reindexing the dataframe for duplicate dropping\n",
    "movies_df.index = range(len(movies_df.index))"
   ]
  },
  {
   "cell_type": "code",
   "execution_count": null,
   "metadata": {},
<<<<<<< HEAD
   "outputs": [],
=======
   "outputs": [
    {
     "data": {
      "text/html": [
       "<div>\n",
       "<style scoped>\n",
       "    .dataframe tbody tr th:only-of-type {\n",
       "        vertical-align: middle;\n",
       "    }\n",
       "\n",
       "    .dataframe tbody tr th {\n",
       "        vertical-align: top;\n",
       "    }\n",
       "\n",
       "    .dataframe thead th {\n",
       "        text-align: right;\n",
       "    }\n",
       "</style>\n",
       "<table border=\"1\" class=\"dataframe\">\n",
       "  <thead>\n",
       "    <tr style=\"text-align: right;\">\n",
       "      <th></th>\n",
       "      <th>movie_title</th>\n",
       "      <th>title_year</th>\n",
       "      <th>...</th>\n",
       "      <th>actor_3_facebook_likes</th>\n",
       "      <th>genres</th>\n",
       "    </tr>\n",
       "  </thead>\n",
       "  <tbody>\n",
       "    <tr>\n",
       "      <th>1704</th>\n",
       "      <td>Disturbia</td>\n",
       "      <td>2007.0</td>\n",
       "      <td>...</td>\n",
       "      <td>501.0</td>\n",
       "      <td>Drama|Mystery|Thriller</td>\n",
       "    </tr>\n",
       "    <tr>\n",
       "      <th>2172</th>\n",
       "      <td>Brothers</td>\n",
       "      <td>2009.0</td>\n",
       "      <td>...</td>\n",
       "      <td>1000.0</td>\n",
       "      <td>Drama|Thriller</td>\n",
       "    </tr>\n",
       "    <tr>\n",
       "      <th>2296</th>\n",
       "      <td>Precious</td>\n",
       "      <td>2009.0</td>\n",
       "      <td>...</td>\n",
       "      <td>736.0</td>\n",
       "      <td>Drama</td>\n",
       "    </tr>\n",
       "    <tr>\n",
       "      <th>2586</th>\n",
       "      <td>Murder by Numbers</td>\n",
       "      <td>2002.0</td>\n",
       "      <td>...</td>\n",
       "      <td>400.0</td>\n",
       "      <td>Crime|Mystery|Thriller</td>\n",
       "    </tr>\n",
       "    <tr>\n",
       "      <th>2685</th>\n",
       "      <td>Pan</td>\n",
       "      <td>2015.0</td>\n",
       "      <td>...</td>\n",
       "      <td>394.0</td>\n",
       "      <td>Adventure|Family|Fantasy</td>\n",
       "    </tr>\n",
       "    <tr>\n",
       "      <th>2739</th>\n",
       "      <td>The Watch</td>\n",
       "      <td>2012.0</td>\n",
       "      <td>...</td>\n",
       "      <td>536.0</td>\n",
       "      <td>Action|Comedy|Sci-Fi</td>\n",
       "    </tr>\n",
       "    <tr>\n",
       "      <th>2908</th>\n",
       "      <td>Mercury Rising</td>\n",
       "      <td>1998.0</td>\n",
       "      <td>...</td>\n",
       "      <td>652.0</td>\n",
       "      <td>Action|Crime|Drama|Thriller</td>\n",
       "    </tr>\n",
       "    <tr>\n",
       "      <th>2960</th>\n",
       "      <td>The Lovely Bones</td>\n",
       "      <td>2009.0</td>\n",
       "      <td>...</td>\n",
       "      <td>310.0</td>\n",
       "      <td>Drama|Fantasy|Thriller</td>\n",
       "    </tr>\n",
       "  </tbody>\n",
       "</table>\n",
       "<p>8 rows × 12 columns</p>\n",
       "</div>"
      ],
      "text/plain": [
       "             movie_title  title_year  ...  actor_3_facebook_likes  \\\n",
       "1704          Disturbia       2007.0  ...                   501.0   \n",
       "2172           Brothers       2009.0  ...                  1000.0   \n",
       "2296           Precious       2009.0  ...                   736.0   \n",
       "2586  Murder by Numbers       2002.0  ...                   400.0   \n",
       "2685                Pan       2015.0  ...                   394.0   \n",
       "2739          The Watch       2012.0  ...                   536.0   \n",
       "2908     Mercury Rising       1998.0  ...                   652.0   \n",
       "2960   The Lovely Bones       2009.0  ...                   310.0   \n",
       "\n",
       "                           genres  \n",
       "1704       Drama|Mystery|Thriller  \n",
       "2172               Drama|Thriller  \n",
       "2296                        Drama  \n",
       "2586       Crime|Mystery|Thriller  \n",
       "2685     Adventure|Family|Fantasy  \n",
       "2739         Action|Comedy|Sci-Fi  \n",
       "2908  Action|Crime|Drama|Thriller  \n",
       "2960       Drama|Fantasy|Thriller  \n",
       "\n",
       "[8 rows x 12 columns]"
      ]
     },
     "execution_count": 8,
     "metadata": {},
     "output_type": "execute_result"
    }
   ],
>>>>>>> 14b2c72bfc95936359e8ce2e3ed1e9eee3360376
   "source": [
    "movies_df[movies_df.duplicated('movie_title')]"
   ]
  },
  {
   "cell_type": "code",
   "execution_count": null,
   "metadata": {},
<<<<<<< HEAD
   "outputs": [],
=======
   "outputs": [
    {
     "data": {
      "text/html": [
       "<div>\n",
       "<style scoped>\n",
       "    .dataframe tbody tr th:only-of-type {\n",
       "        vertical-align: middle;\n",
       "    }\n",
       "\n",
       "    .dataframe tbody tr th {\n",
       "        vertical-align: top;\n",
       "    }\n",
       "\n",
       "    .dataframe thead th {\n",
       "        text-align: right;\n",
       "    }\n",
       "</style>\n",
       "<table border=\"1\" class=\"dataframe\">\n",
       "  <thead>\n",
       "    <tr style=\"text-align: right;\">\n",
       "      <th></th>\n",
       "      <th>movie_title</th>\n",
       "      <th>title_year</th>\n",
       "      <th>...</th>\n",
       "      <th>actor_3_facebook_likes</th>\n",
       "      <th>genres</th>\n",
       "    </tr>\n",
       "  </thead>\n",
       "  <tbody>\n",
       "    <tr>\n",
       "      <th>1082</th>\n",
       "      <td>Disturbia</td>\n",
       "      <td>2007.0</td>\n",
       "      <td>...</td>\n",
       "      <td>502.0</td>\n",
       "      <td>Drama|Mystery|Thriller</td>\n",
       "    </tr>\n",
       "    <tr>\n",
       "      <th>1704</th>\n",
       "      <td>Disturbia</td>\n",
       "      <td>2007.0</td>\n",
       "      <td>...</td>\n",
       "      <td>501.0</td>\n",
       "      <td>Drama|Mystery|Thriller</td>\n",
       "    </tr>\n",
       "  </tbody>\n",
       "</table>\n",
       "<p>2 rows × 12 columns</p>\n",
       "</div>"
      ],
      "text/plain": [
       "     movie_title  title_year  ...  actor_3_facebook_likes  \\\n",
       "1082  Disturbia       2007.0  ...                   502.0   \n",
       "1704  Disturbia       2007.0  ...                   501.0   \n",
       "\n",
       "                      genres  \n",
       "1082  Drama|Mystery|Thriller  \n",
       "1704  Drama|Mystery|Thriller  \n",
       "\n",
       "[2 rows x 12 columns]"
      ]
     },
     "execution_count": 9,
     "metadata": {},
     "output_type": "execute_result"
    }
   ],
>>>>>>> 14b2c72bfc95936359e8ce2e3ed1e9eee3360376
   "source": [
    "#investigate an example of any of the remaining duplicates on titles\n",
    "movies_df[movies_df['movie_title'].str.contains('Disturbia')]"
   ]
  },
  {
   "cell_type": "markdown",
   "metadata": {},
   "source": [
    "We include this as an example of the duplicates we encountered that have the same movies title. These one differ on\n",
    "actor_3_facebook_likes by 1."
   ]
  },
  {
   "cell_type": "code",
   "execution_count": null,
   "metadata": {},
   "outputs": [],
   "source": [
    "movies_df = movies_df.drop(movies_df.index[[1082,1704,1479,2172,1107,2296,\n",
    "                                            835,2586,125,2685,728,2739,664,\n",
    "                                            2908,284,2960]])"
   ]
  },
  {
   "cell_type": "code",
   "execution_count": null,
   "metadata": {},
   "outputs": [],
   "source": [
    "movies_df.shape"
   ]
  },
  {
   "cell_type": "code",
   "execution_count": null,
   "metadata": {},
   "outputs": [],
   "source": [
    "#this variable will store all genres in the movie dataset\n",
    "genre_dict = {}\n",
    "for genres in movies_df.genres:\n",
    "    #remove spaces from string\n",
    "    genres_no_space = genres.strip()\n",
    "    #need to extract genre by delimiter |\n",
    "    genres_list = genres_no_space.split(\"|\")\n",
    "    \n",
    "    #adds the genre as a key in dictionary and updates the count\n",
    "    for genre in genres_list:     \n",
    "        #key exists: increment the count for movies with this genre\n",
    "        if genre in genre_dict:\n",
    "            genre_dict[genre] = genre_dict.get(genre) + 1   \n",
    "        else: #doesn't exist: add it\n",
    "            key_value = {genre : 1}\n",
    "            genre_dict.update(key_value)"
   ]
  },
  {
   "cell_type": "code",
   "execution_count": null,
   "metadata": {},
   "outputs": [],
   "source": [
    "#list to store the genres\n",
    "genre_list = []\n",
    "#add dictionary keys (genres) into our genre_list\n",
    "for key in genre_dict:\n",
    "    #statistical insignificance if >= 20\n",
    "    if genre_dict[key] >= 20:\n",
    "        genre_list.append(key)"
   ]
  },
  {
   "cell_type": "code",
   "execution_count": null,
   "metadata": {},
   "outputs": [],
   "source": [
    "#check to see which genres are statistically significant for later use\n",
    "genre_list"
   ]
  },
  {
   "cell_type": "code",
   "execution_count": null,
   "metadata": {},
   "outputs": [],
   "source": [
    "#add specific genre columns to dataframe\n",
    "# loop through dataframe and add into lists a 1 if it exists in the genre and a 0 otherwise\n",
    "#after for loop ends insert the columns with the respective lists\n",
    "action = []\n",
    "adventure = []\n",
    "fantasy = []\n",
    "scifi = []\n",
    "thriller = []\n",
    "romance = []\n",
    "animation = []\n",
    "comedy = []\n",
    "family = []\n",
    "musical = []\n",
    "western = []\n",
    "drama = []\n",
    "history = []\n",
    "sport = []\n",
    "crime = []\n",
    "horror = []\n",
    "biography = []\n",
    "mystery = []\n",
    "war = []\n",
    "music = []\n",
    "documentary = []\n",
    "\n",
    "#create the genre lists, 1 if a movie is that genre, 0 if not\n",
    "for i, rows in movies_df.iterrows():\n",
    "    if (rows['genres'].find('Action') >= 0):\n",
    "        action.append(1)\n",
    "    else:\n",
    "        action.append(0)\n",
    "        \n",
    "    if (rows['genres'].find('Adventure') >= 0):\n",
    "        adventure.append(1)\n",
    "    else:\n",
    "        adventure.append(0)\n",
    "        \n",
    "    if (rows['genres'].find('Fantasy') >= 0):\n",
    "        fantasy.append(1)\n",
    "    else:\n",
    "        fantasy.append(0)\n",
    "    \n",
    "    if (rows['genres'].find('Sci-Fi') >= 0):\n",
    "        scifi.append(1)\n",
    "    else:\n",
    "        scifi.append(0)\n",
    "    \n",
    "    if (rows['genres'].find('Thriller') >= 0):\n",
    "        thriller.append(1)\n",
    "    else:\n",
    "        thriller.append(0)\n",
    "    \n",
    "    if (rows['genres'].find('Romance') >= 0):\n",
    "        romance.append(1)\n",
    "    else:\n",
    "        romance.append(0)\n",
    "    \n",
    "    if (rows['genres'].find('Animation') >= 0):\n",
    "        animation.append(1)\n",
    "    else:\n",
    "        animation.append(0)\n",
    "    \n",
    "    if (rows['genres'].find('Comedy') >= 0):\n",
    "        comedy.append(1)\n",
    "    else:\n",
    "        comedy.append(0)\n",
    "    \n",
    "    if (rows['genres'].find('Family') >= 0):\n",
    "        family.append(1)\n",
    "    else:\n",
    "        family.append(0)\n",
    "    \n",
    "    if (rows['genres'].find('Musical') >= 0):\n",
    "        musical.append(1)\n",
    "    else:\n",
    "        musical.append(0)\n",
    "    \n",
    "    if (rows['genres'].find('Western') >= 0):\n",
    "        western.append(1)\n",
    "    else:\n",
    "        western.append(0)\n",
    "    \n",
    "    if (rows['genres'].find('Drama') >= 0):\n",
    "        drama.append(1)\n",
    "    else:\n",
    "        drama.append(0)\n",
    "    \n",
    "    if (rows['genres'].find('History') >= 0):\n",
    "        history.append(1)\n",
    "    else:\n",
    "        history.append(0)\n",
    "    \n",
    "    if (rows['genres'].find('Sport') >= 0):\n",
    "        sport.append(1)\n",
    "    else:\n",
    "        sport.append(0)\n",
    "    \n",
    "    if (rows['genres'].find('Crime') >= 0):\n",
    "        crime.append(1)\n",
    "    else:\n",
    "        crime.append(0)\n",
    "    \n",
    "    if (rows['genres'].find('Horror') >= 0):\n",
    "        horror.append(1)\n",
    "    else:\n",
    "        horror.append(0)\n",
    "    \n",
    "    if (rows['genres'].find('Biography') >= 0):\n",
    "        biography.append(1)\n",
    "    else:\n",
    "        biography.append(0)\n",
    "    \n",
    "    if (rows['genres'].find('Mystery') >= 0):\n",
    "        mystery.append(1)\n",
    "    else:\n",
    "        mystery.append(0)\n",
    "    \n",
    "    if (rows['genres'].find('War') >= 0):\n",
    "        war.append(1)\n",
    "    else:\n",
    "        war.append(0)\n",
    "    \n",
    "    if (rows['genres'].find('Music') >= 0):\n",
    "        music.append(1)\n",
    "    else:\n",
    "        music.append(0)\n",
    "    \n",
    "    if (rows['genres'].find('Documentary') >= 0):\n",
    "        documentary.append(1)\n",
    "    else:\n",
    "        documentary.append(0)\n",
    "\n",
    "#add columns to data frame\n",
    "movies_df['Action'] = action\n",
    "movies_df['Adventure'] = adventure\n",
    "movies_df['Fantasy'] = fantasy\n",
    "movies_df['Scifi'] = scifi\n",
    "movies_df['Thriller'] = thriller\n",
    "movies_df['Romance'] = romance\n",
    "movies_df['Animation'] = animation\n",
    "movies_df['Comedy'] = comedy\n",
    "movies_df['Family'] = family\n",
    "movies_df['Musical'] = musical\n",
    "movies_df['Western'] = western\n",
    "movies_df['Drama'] = drama\n",
    "movies_df['History'] = history\n",
    "movies_df['Sport'] = sport\n",
    "movies_df['Crime'] = crime\n",
    "movies_df['Horror'] = horror\n",
    "movies_df['Biography'] = biography\n",
    "movies_df['Mystery'] = mystery\n",
    "movies_df['War'] = war\n",
    "movies_df['Music'] = music\n",
    "movies_df['Documentary'] = documentary "
   ]
  },
  {
   "cell_type": "markdown",
   "metadata": {},
   "source": [
    "#### Data Visualization and Analysis"
   ]
  },
  {
   "cell_type": "code",
   "execution_count": null,
   "metadata": {
    "scrolled": false
   },
   "outputs": [],
   "source": [
    "#Scatterplot for actor1_facebook_likes and movie gross with regression line\n",
    "#max actor_1 likes\n",
    "max_actor1_likes = int(movies_df.actor_1_facebook_likes.max())\n",
    "\n",
    "a1, b1 = np.polyfit(movies_df.actor_1_facebook_likes, movies_df.gross, 1)\n",
    "\n",
    "pred_likes1_list = list()\n",
    "for i in range(0, max_actor1_likes):\n",
    "    pred_likes1_list.append((a1 * i) + b1)\n",
    "\n",
    "pred_likes1 = np.array(pred_likes1_list)\n",
    "\n",
    "plt.scatter(movies_df.actor_1_facebook_likes, movies_df.gross)\n",
    "\n",
    "plt.plot(range(0, max_actor1_likes), pred_likes1, color='red')\n",
    "\n",
    "plt.xlabel('Actor 1 Facebook Likes', fontsize = 16)\n",
    "plt.ylabel('Movie Gross Income by Millions', fontsize = 14)\n",
    "plt.title('Actor 1 Facebook Likes and Movie Gross Scatterplot', y=1.08)"
   ]
  },
  {
   "cell_type": "code",
   "execution_count": null,
   "metadata": {},
   "outputs": [],
   "source": [
    "#Scatterplot for actor2_facebook_likes and movie gross with regression line\n",
    "#max actor_2 likes\n",
    "max_actor2_likes = int(movies_df.actor_2_facebook_likes.max())\n",
    "\n",
    "a2, b2 = np.polyfit(movies_df.actor_2_facebook_likes, movies_df.gross, 1)\n",
    "\n",
    "pred_likes2_list = list()\n",
    "for i in range(0, max_actor2_likes):\n",
    "    pred_likes2_list.append((a2 * i) + b2)\n",
    "\n",
    "pred_likes2 = np.array(pred_likes2_list)\n",
    "\n",
    "plt.scatter(movies_df.actor_2_facebook_likes, movies_df.gross)\n",
    "\n",
    "plt.plot(range(0, max_actor2_likes), pred_likes2, color='red')\n",
    "\n",
    "plt.xlabel('Actor 2 Facebook Likes', fontsize = 16)\n",
    "plt.ylabel('Movie Gross Income by Millions', fontsize = 14)\n",
    "plt.title('Actor 2 Facebook Likes and Movie Gross Scatterplot', y=1.08)"
   ]
  },
  {
   "cell_type": "code",
   "execution_count": null,
   "metadata": {},
   "outputs": [],
   "source": [
    "#Scatterplot for actor3_facebook_likes and movie gross with regression line\n",
    "#max actor_3 likes\n",
    "max_actor3_likes = int(movies_df.actor_3_facebook_likes.max())\n",
    "\n",
    "a3, b3 = np.polyfit(movies_df.actor_3_facebook_likes, movies_df.gross, 1)\n",
    "\n",
    "pred_likes3_list = list()\n",
    "for i in range(0, max_actor3_likes):\n",
    "    pred_likes3_list.append((a3 * i) + b3)\n",
    "\n",
    "pred_likes3 = np.array(pred_likes3_list)\n",
    "\n",
    "plt.scatter(movies_df.actor_3_facebook_likes, movies_df.gross)\n",
    "\n",
    "plt.plot(range(0, max_actor3_likes), pred_likes3, color='red')\n",
    "\n",
    "plt.xlabel('Actor 3 Facebook Likes', fontsize = 16)\n",
    "plt.ylabel('Movie Gross Income by Millions', fontsize = 14)\n",
    "plt.title('Actor 3 Facebook Likes and Movie Gross Scatterplot', y=1.08)"
   ]
  },
  {
   "cell_type": "code",
   "execution_count": null,
   "metadata": {},
   "outputs": [],
   "source": [
    "#Scatterplot for director_facebook_likes and movie gross with regression line\n",
    "#max director likes\n",
    "max_director_likes = int(movies_df.director_facebook_likes.max())\n",
    "\n",
    "a, b = np.polyfit(movies_df.director_facebook_likes, movies_df.gross, 1)\n",
    "\n",
    "pred_likes_list = list()\n",
    "for i in range(0, max_director_likes):\n",
    "    pred_likes_list.append((a * i) + b)\n",
    "\n",
    "pred_likes = np.array(pred_likes_list)\n",
    "\n",
    "plt.scatter(movies_df.director_facebook_likes, movies_df.gross)\n",
    "\n",
    "plt.plot(range(0, max_director_likes), pred_likes, color='red')\n",
    "\n",
    "plt.xlabel('Director Facebook Likes', fontsize = 16)\n",
    "plt.ylabel('Movie Gross Income by Millions', fontsize = 14)\n",
    "plt.title('Director Facebook Likes and Movie Gross Scatterplot', y=1.08)"
   ]
  },
  {
   "cell_type": "markdown",
   "metadata": {},
   "source": [
    "##### Initial Scatter Plot summary\n",
    "The scatterplots demonstrate a positive correlation between facebook likes and movie gross income with the strongest corelation being between actor 2 likes and movie gross income. However, the distributions are  too variance and therefore need to be transformed for a desired normal distribution. From this, we decided to use a log transformation."
   ]
  },
  {
   "cell_type": "code",
   "execution_count": null,
   "metadata": {},
   "outputs": [],
   "source": [
    "#having any 0 likes affects log transformation\n",
    "movies_df[(movies_df.actor_1_facebook_likes == 0) |\n",
    "          (movies_df.actor_2_facebook_likes == 0) |\n",
    "          (movies_df.actor_3_facebook_likes == 0) |\n",
    "          (movies_df.director_facebook_likes == 0)].count()"
   ]
  },
  {
   "cell_type": "code",
   "execution_count": null,
   "metadata": {},
   "outputs": [],
   "source": [
    "#add .1 weight to all likes\n",
    "movies_df.actor_1_facebook_likes = (\n",
    "    movies_df.actor_1_facebook_likes.apply(lambda x: x+.1))\n",
    "movies_df.actor_2_facebook_likes = (\n",
    "    movies_df.actor_2_facebook_likes.apply(lambda x: x+.1))\n",
    "movies_df.actor_3_facebook_likes = (\n",
    "    movies_df.actor_3_facebook_likes.apply(lambda x: x+.1))\n",
    "movies_df.director_facebook_likes = (\n",
    "    movies_df.director_facebook_likes.apply(lambda x: x+.1))"
   ]
  },
  {
   "cell_type": "code",
   "execution_count": null,
   "metadata": {},
   "outputs": [],
   "source": [
    "#Changing like values of actor 1 using log10\n",
    "movies_df['actor_1_facebook_likes_log'] = (\n",
    "    np.log10(movies_df['actor_1_facebook_likes']))\n",
    "\n",
    "#Scatterplot for actor1_facebook_likes and movie gross with regression line\n",
    "#max actor_1 likes\n",
    "max_logactor1_likes = movies_df.actor_1_facebook_likes_log.max()\n",
    "\n",
    "a1, b1 = (\n",
    "    np.polyfit(movies_df.actor_1_facebook_likes_log, movies_df.gross, 1))\n",
    "\n",
    "pred_loglikes1_list = list()\n",
    "for i in np.arange(0, max_logactor1_likes):\n",
    "    pred_loglikes1_list.append((a1 * i) + b1)\n",
    "\n",
    "pred_loglikes1 = np.array(pred_loglikes1_list)\n",
    "\n",
    "plt.scatter(movies_df.actor_1_facebook_likes_log, movies_df.gross)\n",
    "\n",
    "plt.plot(np.arange(0, max_logactor1_likes), pred_loglikes1, color='red')\n",
    "\n",
    "plt.xlabel('Actor 1 Facebook Likes by Hundred Thousands', fontsize = 16)\n",
    "plt.ylabel('Movie Gross Income by Millions', fontsize = 14)\n",
    "plt.title('Actor 1 Facebook Likes and Movie Gross Scatterplot', y=1.08)"
   ]
  },
  {
   "cell_type": "markdown",
   "metadata": {},
   "source": [
    "The log transformation has an effect on increasing the r-value. There is a slight increase in the\n",
    "correlation between likes to gross income. However, the correlation is still substantially weak. It is important to note that the points near the negative values shown on the scatterplots are actors/directors who had 0 FB likes."
   ]
  },
  {
   "cell_type": "markdown",
   "metadata": {},
   "source": [
    "##### Actor 1 Scatter Plot Analysis\n",
    "After log transformation, we can now see that the scatterpoints for Actor 1 Facebook Likes are also spread more evenly. We can see now that there are two distinct groups of actors, one between the 0-3 hundred thousand likes and abother between 3-5 hundred thousand likes creating a bimodal distribution. Though we can see the data shown by our scatterplot more clearly, our positive correlation is weakened due to the many outliers between 3-5 hundred thousand FB likes as well as those outliers that are in the >5 hundred thousand FB like group. "
   ]
  },
  {
   "cell_type": "code",
   "execution_count": null,
   "metadata": {},
<<<<<<< HEAD
   "outputs": [],
=======
   "outputs": [
    {
     "name": "stdout",
     "output_type": "stream",
     "text": [
      "0.1312265665513149\n",
      "0.2489085388174903\n"
     ]
    }
   ],
>>>>>>> 14b2c72bfc95936359e8ce2e3ed1e9eee3360376
   "source": [
    "#stats for actor 1 likes with gross\n",
    "slope1, intercept1, r1_value, p1_value, std_err = (\n",
    "    stats.linregress(movies_df['actor_1_facebook_likes'],\n",
    "                     movies_df['gross']))\n",
    "print(r1_value)\n",
    "slope1, intercept1, r1_value, p1_value, std_err = (\n",
    "    stats.linregress(movies_df['actor_1_facebook_likes_log'],\n",
    "                     movies_df['gross']))\n",
    "print(r1_value)"
   ]
  },
  {
   "cell_type": "code",
   "execution_count": null,
   "metadata": {},
<<<<<<< HEAD
   "outputs": [],
=======
   "outputs": [
    {
     "data": {
      "text/plain": [
       "Text(0.5, 1.08, 'Actor 2 Facebook Likes and Movie Gross Scatterplot')"
      ]
     },
     "execution_count": 23,
     "metadata": {},
     "output_type": "execute_result"
    },
    {
     "data": {
      "image/png": "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\n",
      "text/plain": [
       "<Figure size 432x288 with 1 Axes>"
      ]
     },
     "metadata": {
      "needs_background": "light"
     },
     "output_type": "display_data"
    }
   ],
>>>>>>> 14b2c72bfc95936359e8ce2e3ed1e9eee3360376
   "source": [
    "#Changing like values of actor 2 using log10\n",
    "movies_df['actor_2_facebook_likes_log'] = (\n",
    "    np.log10(movies_df['actor_2_facebook_likes']))\n",
    "\n",
    "#Scatterplot for actor1_facebook_likes and movie gross with regression line\n",
    "#max actor_1 likes\n",
    "max_logactor2_likes = movies_df.actor_2_facebook_likes_log.max()\n",
    "\n",
    "a2, b2 = (\n",
    "    np.polyfit(movies_df.actor_2_facebook_likes_log, movies_df.gross, 1))\n",
    "\n",
    "pred_loglikes2_list = list()\n",
    "for i in np.arange(0, max_logactor2_likes):\n",
    "    pred_loglikes2_list.append((a2 * i) + b2)\n",
    "\n",
    "pred_loglikes2 = np.array(pred_loglikes2_list)\n",
    "\n",
    "plt.scatter(movies_df.actor_2_facebook_likes_log, movies_df.gross)\n",
    "\n",
    "plt.plot(np.arange(0, max_logactor2_likes), pred_loglikes2, color='red')\n",
    "\n",
    "plt.xlabel('Actor 2 Facebook Likes by Hundred Thousands', fontsize = 16)\n",
    "plt.ylabel('Movie Gross Income by Millions', fontsize = 14)\n",
    "plt.title('Actor 2 Facebook Likes and Movie Gross Scatterplot', y=1.08)"
   ]
  },
  {
   "cell_type": "markdown",
   "metadata": {},
   "source": [
    "##### Actor 2 Scatter Plot Analysis\n",
    "After log transformation, we can now see that the scatterpoints for Actor 2 Facebook Likes are also spread more evenly through out the scatterplot similar to Actor 1. The shape of the scatterplot appears to be the same as actor 1 and that could be the result of the actor 2 group having the same actors from the actor 1 group. Here we see a similar line as from the actor 1 scatterplot with the exception that this line extends more through out the scatterplot and this is because we have less outliers in actor 2 than actor 1. Though with less outliers shown here, we can more comfortably assume that the positive correlation shown here is slightly more accurate than the one in actor 1."
   ]
  },
  {
   "cell_type": "code",
   "execution_count": null,
   "metadata": {},
<<<<<<< HEAD
   "outputs": [],
=======
   "outputs": [
    {
     "name": "stdout",
     "output_type": "stream",
     "text": [
      "0.23465147465274078\n",
      "0.28477527226635774\n"
     ]
    }
   ],
>>>>>>> 14b2c72bfc95936359e8ce2e3ed1e9eee3360376
   "source": [
    "#stats for actor 2 likes with gross\n",
    "slope2, intercept2, r2_value, p2_value, std_err = (\n",
    "    stats.linregress(movies_df['actor_2_facebook_likes'],\n",
    "                     movies_df['gross']))\n",
    "print(r2_value)\n",
    "slope2, intercept2, r2_value, p2_value, std_err = (\n",
    "    stats.linregress(movies_df['actor_2_facebook_likes_log'],\n",
    "                     movies_df['gross']))\n",
    "print(r2_value)"
   ]
  },
  {
   "cell_type": "code",
   "execution_count": null,
   "metadata": {},
   "outputs": [],
   "source": [
    "#Changing like values of actor 3 using log10\n",
    "movies_df['actor_3_facebook_likes_log'] = (\n",
    "    np.log10(movies_df['actor_3_facebook_likes']))\n",
    "\n",
    "#Scatterplot for actor1_facebook_likes and movie gross with regression line\n",
    "#max actor_1 likes\n",
    "max_logactor3_likes = movies_df.actor_3_facebook_likes_log.max()\n",
    "\n",
    "a3, b3 = (\n",
    "    np.polyfit(movies_df.actor_3_facebook_likes_log, movies_df.gross, 1))\n",
    "\n",
    "pred_loglikes3_list = list()\n",
    "for i in np.arange(0, max_logactor3_likes):\n",
    "    pred_loglikes3_list.append((a3 * i) + b3)\n",
    "\n",
    "pred_loglikes3 = np.array(pred_loglikes3_list)\n",
    "\n",
    "plt.scatter(movies_df.actor_3_facebook_likes_log, movies_df.gross)\n",
    "\n",
    "plt.plot(np.arange(0, max_logactor3_likes), pred_loglikes3, color='red')\n",
    "\n",
    "#labeling\n",
    "plt.xlabel('Actor 3 Facebook Likes by Hundred Thousands', fontsize = 16)\n",
    "plt.ylabel('Movie Gross Income by Millions', fontsize = 14)\n",
    "plt.title('Actor 3 Facebook Likes and Movie Gross Scatterplot', y=1.08)"
   ]
  },
  {
   "cell_type": "markdown",
   "metadata": {},
   "source": [
    "##### Actor 3 Scatter Plot Analysis\n",
    "After this log transformation, we see a drastic change in distribution.  The data is less spread out across the plot, clutters mostly around the 0-300,000 likes area, and more clearly shifts up as we move from left to right indicating a positive correlation. This has changed the regression line to have a shallower slope, indicating less of a positive correlation. It's also important to note the outliers that exist beyond the clumped areas in the 0-3 range along the x axis. Because of these outliers, the positive correlation here may be even weaker than depicted."
   ]
  },
  {
   "cell_type": "code",
   "execution_count": null,
   "metadata": {},
<<<<<<< HEAD
   "outputs": [],
=======
   "outputs": [
    {
     "name": "stdout",
     "output_type": "stream",
     "text": [
      "0.2770023668785392\n",
      "0.2630527011471118\n"
     ]
    }
   ],
>>>>>>> 14b2c72bfc95936359e8ce2e3ed1e9eee3360376
   "source": [
    "#stats for actor 3 likes with gross\n",
    "slope3, intercept1, r3_value, p3_value, std_err = (\n",
    "    stats.linregress(movies_df['actor_3_facebook_likes'],\n",
    "                     movies_df['gross']))\n",
    "print(r3_value)\n",
    "slope3, intercept1, r3_value, p3_value, std_err = (\n",
    "    stats.linregress(movies_df['actor_3_facebook_likes_log'],\n",
    "                     movies_df['gross']))\n",
    "print(r3_value)"
   ]
  },
  {
   "cell_type": "code",
<<<<<<< HEAD
   "execution_count": null,
   "metadata": {},
   "outputs": [],
=======
   "execution_count": 27,
   "metadata": {},
   "outputs": [
    {
     "data": {
      "text/plain": [
       "Text(0.5, 1.08, 'Director Facebook Likes and Movie Gross Scatterplot')"
      ]
     },
     "execution_count": 27,
     "metadata": {},
     "output_type": "execute_result"
    },
    {
     "data": {
      "image/png": "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\n",
      "text/plain": [
       "<Figure size 432x288 with 1 Axes>"
      ]
     },
     "metadata": {
      "needs_background": "light"
     },
     "output_type": "display_data"
    }
   ],
>>>>>>> 14b2c72bfc95936359e8ce2e3ed1e9eee3360376
   "source": [
    "#Changing like values of director likes using log10\n",
    "movies_df['director_facebook_likes_log'] = (\n",
    "    np.log10(movies_df['director_facebook_likes']))\n",
    "\n",
    "#Scatterplot for actor1_facebook_likes and movie gross with regression line\n",
    "#max actor_1 likes\n",
    "max_logdirector_likes = movies_df.director_facebook_likes_log.max()\n",
    "\n",
    "a, b = (\n",
    "    np.polyfit(movies_df.director_facebook_likes_log, movies_df.gross, 1))\n",
    "\n",
    "pred_loglikes_list = list()\n",
    "for i in np.arange(0, max_logdirector_likes):\n",
    "    pred_loglikes_list.append((a * i) + b)\n",
    "\n",
    "pred_loglikes = np.array(pred_loglikes_list)\n",
    "\n",
    "plt.scatter(movies_df.director_facebook_likes_log, movies_df.gross)\n",
    "\n",
    "plt.plot(np.arange(0, max_logdirector_likes), pred_loglikes, color='red')\n",
    "\n",
    "#labeling\n",
    "plt.xlabel('Director Facebook Likes by Hundred Thousands', fontsize = 16)\n",
    "plt.ylabel('Movie Gross Income by Millions', fontsize = 14)\n",
    "plt.title('Director Facebook Likes and Movie Gross Scatterplot', y=1.08)"
   ]
  },
  {
   "cell_type": "markdown",
   "metadata": {},
   "source": [
    "##### Director Scatter Plot Analysis\n",
    "The distribution for Director Facebook likes had the most variance out of all the scatter plots. Even after the log transformation, the scatter plot still has four distinct groups above -1, 0-3, 3-4, and >4. It's also important to note that the bulk of the height for the biggest group (in range 0-3) peaks at around 2 million dollars while the bulk of the pillar above -1 peaks around 4 million dollars. This uneven distribution caused by the large amounts of directors who previously were observed to have 0 FB likes (more than any other category) is the likely reason that the regression line currently shows that there is little to no correlation."
   ]
  },
  {
   "cell_type": "code",
   "execution_count": null,
   "metadata": {},
<<<<<<< HEAD
   "outputs": [],
=======
   "outputs": [
    {
     "name": "stdout",
     "output_type": "stream",
     "text": [
      "0.14059768143149814\n",
      "0.07842459804293193\n"
     ]
    }
   ],
>>>>>>> 14b2c72bfc95936359e8ce2e3ed1e9eee3360376
   "source": [
    "#stats for director likes with gross\n",
    "slope, intercept, r_value, p_value, std_err = (\n",
    "    stats.linregress(movies_df['director_facebook_likes'],\n",
    "                     movies_df['gross']))\n",
    "print(r_value)\n",
    "slope, intercept, r_value, p_value, std_err = (\n",
    "    stats.linregress(movies_df['director_facebook_likes_log'],\n",
    "                     movies_df['gross']))\n",
    "print(r_value)"
   ]
  },
  {
   "cell_type": "code",
   "execution_count": null,
   "metadata": {},
   "outputs": [],
   "source": [
    "#Add all actor1 likes into its respective list\n",
    "\n",
    "action1 = []\n",
    "adventure1 = []\n",
    "fantasy1 = []\n",
    "scifi1 = []\n",
    "thriller1 = []\n",
    "romance1 = []\n",
    "animation1 = []\n",
    "comedy1 = []\n",
    "family1 = []\n",
    "musical1 = []\n",
    "western1 = []\n",
    "drama1 = []\n",
    "history1 = []\n",
    "sport1 = []\n",
    "crime1 = []\n",
    "horror1 = []\n",
    "biography1 = []\n",
    "mystery1 = []\n",
    "war1 = []\n",
    "music1 = []\n",
    "documentary1 = []\n",
    "\n",
    "\n",
    "for i, rows in movies_df.iterrows():\n",
    "    currLikes = rows['actor_1_facebook_likes_log']\n",
    "    if (rows['genres'].find('Action') >= 0):\n",
    "        action1.append(currLikes)\n",
    "    if (rows['genres'].find('Adventure') >= 0):\n",
    "        adventure1.append(currLikes)\n",
    "    if (rows['genres'].find('Fantasy') >= 0):\n",
    "        fantasy1.append(currLikes)\n",
    "    if (rows['genres'].find('Sci-Fi') >= 0):\n",
    "        scifi1.append(currLikes)\n",
    "    if (rows['genres'].find('Thriller') >= 0):\n",
    "        thriller1.append(currLikes)\n",
    "    if (rows['genres'].find('Romance') >= 0):\n",
    "        romance1.append(currLikes)\n",
    "    if (rows['genres'].find('Animation') >= 0):\n",
    "        animation1.append(currLikes)\n",
    "    if (rows['genres'].find('Comedy') >= 0):\n",
    "        comedy1.append(currLikes)\n",
    "    if (rows['genres'].find('Family') >= 0):\n",
    "        family1.append(currLikes)\n",
    "    if (rows['genres'].find('Musical') >= 0):\n",
    "        musical1.append(currLikes)\n",
    "    if (rows['genres'].find('Western') >= 0):\n",
    "        western1.append(currLikes)\n",
    "    if (rows['genres'].find('Drama') >= 0):\n",
    "        drama1.append(currLikes)\n",
    "    if (rows['genres'].find('History') >= 0):\n",
    "        history1.append(currLikes)\n",
    "    if (rows['genres'].find('Sport') >= 0):\n",
    "        sport1.append(currLikes)\n",
    "    if (rows['genres'].find('Crime') >= 0):\n",
    "        crime1.append(currLikes)\n",
    "    if (rows['genres'].find('Horror') >= 0):\n",
    "        horror1.append(currLikes)\n",
    "    if (rows['genres'].find('Biography') >= 0):\n",
    "        biography1.append(currLikes)\n",
    "    if (rows['genres'].find('Mystery') >= 0):\n",
    "        mystery1.append(currLikes)\n",
    "    if (rows['genres'].find('War') >= 0):\n",
    "        war1.append(currLikes)\n",
    "    if (rows['genres'].find('Music') >= 0):\n",
    "        music1.append(currLikes)\n",
    "    if (rows['genres'].find('Documentary') >= 0):\n",
    "        documentary1.append(currLikes)\n",
    "        \n",
    "        \n",
    "actor1Likes = [action1, adventure1, fantasy1, scifi1, thriller1, romance1, animation1,\n",
    "               comedy1,family1 ,musical1 ,western1, drama1, history1 , sport1 , crime1 ,\n",
    "               horror1, biography1 , mystery1 , war1 , music1 ,documentary1]\n",
    "\n",
    "fig = plt.figure(1, figsize=(21, 12))\n",
    "\n",
    "ax = fig.add_subplot(111)\n",
    "\n",
    "bp = plt.boxplot(actor1Likes)\n",
    "\n",
    "ax.set_title('Actor 1 Facebook Likes by Genre', fontsize=30)\n",
    "ax.set_xlabel('Genres', fontsize=25)\n",
    "ax.set_ylabel('Actor 1 Facebook Likes', fontsize=25)\n",
    "ax.set_xticklabels(\n",
    "           [\"Action\",\"Adventure\",\"Fantasy\", \"Sci-Fi\", \"Thriller\", \"Romance\",\n",
    "            \"Animation\", \"Comedy\", \"Family\", \"Musical\", \"Western\", \"Drama\", \"History\",\n",
    "            \"Sport\", \"Crime\", \"Horror\", \"Biography\", \"Mystery\", \"War\", \"Music\", \"Documentary\"])"
   ]
  },
  {
   "cell_type": "code",
   "execution_count": null,
   "metadata": {},
<<<<<<< HEAD
   "outputs": [],
=======
   "outputs": [
    {
     "data": {
      "text/plain": [
       "[Text(0, 0, 'Action'),\n",
       " Text(0, 0, 'Adventure'),\n",
       " Text(0, 0, 'Fantasy'),\n",
       " Text(0, 0, 'Sci-Fi'),\n",
       " Text(0, 0, 'Thriller'),\n",
       " Text(0, 0, 'Romance'),\n",
       " Text(0, 0, 'Animation'),\n",
       " Text(0, 0, 'Comedy'),\n",
       " Text(0, 0, 'Family'),\n",
       " Text(0, 0, 'Musical'),\n",
       " Text(0, 0, 'Western'),\n",
       " Text(0, 0, 'Drama'),\n",
       " Text(0, 0, 'History'),\n",
       " Text(0, 0, 'Sport'),\n",
       " Text(0, 0, 'Crime'),\n",
       " Text(0, 0, 'Horror'),\n",
       " Text(0, 0, 'Biography'),\n",
       " Text(0, 0, 'Mystery'),\n",
       " Text(0, 0, 'War'),\n",
       " Text(0, 0, 'Music'),\n",
       " Text(0, 0, 'Documentary')]"
      ]
     },
     "execution_count": 30,
     "metadata": {},
     "output_type": "execute_result"
    },
    {
     "data": {
      "image/png": "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\n",
      "text/plain": [
       "<Figure size 1512x864 with 1 Axes>"
      ]
     },
     "metadata": {
      "needs_background": "light"
     },
     "output_type": "display_data"
    }
   ],
>>>>>>> 14b2c72bfc95936359e8ce2e3ed1e9eee3360376
   "source": [
    "#Add all actor2 likes into its respective list\n",
    "\n",
    "action2 = []\n",
    "adventure2 = []\n",
    "fantasy2 = []\n",
    "scifi2 = []\n",
    "thriller2 = []\n",
    "romance2 = []\n",
    "animation2 = []\n",
    "comedy2 = []\n",
    "family2 = []\n",
    "musical2 = []\n",
    "western2 = []\n",
    "drama2 = []\n",
    "history2 = []\n",
    "sport2 = []\n",
    "crime2 = []\n",
    "horror2 = []\n",
    "biography2 = []\n",
    "mystery2 = []\n",
    "war2 = []\n",
    "music2 = []\n",
    "documentary2 = []\n",
    "\n",
    "\n",
    "for i, rows in movies_df.iterrows():\n",
    "    currLikes = rows['actor_2_facebook_likes_log']\n",
    "    if (rows['genres'].find('Action') >= 0):\n",
    "        action2.append(currLikes)\n",
    "    if (rows['genres'].find('Adventure') >= 0):\n",
    "        adventure2.append(currLikes)\n",
    "    if (rows['genres'].find('Fantasy') >= 0):\n",
    "        fantasy2.append(currLikes)\n",
    "    if (rows['genres'].find('Sci-Fi') >= 0):\n",
    "        scifi2.append(currLikes)\n",
    "    if (rows['genres'].find('Thriller') >= 0):\n",
    "        thriller2.append(currLikes)\n",
    "    if (rows['genres'].find('Romance') >= 0):\n",
    "        romance2.append(currLikes)\n",
    "    if (rows['genres'].find('Animation') >= 0):\n",
    "        animation2.append(currLikes)\n",
    "    if (rows['genres'].find('Comedy') >= 0):\n",
    "        comedy2.append(currLikes)\n",
    "    if (rows['genres'].find('Family') >= 0):\n",
    "        family2.append(currLikes)\n",
    "    if (rows['genres'].find('Musical') >= 0):\n",
    "        musical2.append(currLikes)\n",
    "    if (rows['genres'].find('Western') >= 0):\n",
    "        western2.append(currLikes)\n",
    "    if (rows['genres'].find('Drama') >= 0):\n",
    "        drama2.append(currLikes)\n",
    "    if (rows['genres'].find('History') >= 0):\n",
    "        history2.append(currLikes)\n",
    "    if (rows['genres'].find('Sport') >= 0):\n",
    "        sport2.append(currLikes)\n",
    "    if (rows['genres'].find('Crime') >= 0):\n",
    "        crime2.append(currLikes)\n",
    "    if (rows['genres'].find('Horror') >= 0):\n",
    "        horror2.append(currLikes)\n",
    "    if (rows['genres'].find('Biography') >= 0):\n",
    "        biography2.append(currLikes)\n",
    "    if (rows['genres'].find('Mystery') >= 0):\n",
    "        mystery2.append(currLikes)\n",
    "    if (rows['genres'].find('War') >= 0):\n",
    "        war2.append(currLikes)\n",
    "    if (rows['genres'].find('Music') >= 0):\n",
    "        music2.append(currLikes)\n",
    "    if (rows['genres'].find('Documentary') >= 0):\n",
    "        documentary2.append(currLikes)\n",
    "        \n",
    "        \n",
    "actor2Likes = [action2, adventure2, fantasy2, scifi2, thriller2, romance2, animation2,\n",
    "               comedy2,family2 ,musical2 ,western2, drama2, history2 , sport2 , crime2 ,\n",
    "               horror2, biography2 , mystery2 , war2 , music2 ,documentary2]\n",
    "\n",
    "fig = plt.figure(1, figsize=(21, 12))\n",
    "\n",
    "ax = fig.add_subplot(111)\n",
    "\n",
    "bp = ax.boxplot(actor2Likes)\n",
    "\n",
    "ax.set_title('Actor 2 Facebook Likes by Genre', fontsize=30)\n",
    "ax.set_xlabel('Genres', fontsize=25)\n",
    "ax.set_ylabel('Actor 2 Facebook Likes', fontsize=25)\n",
    "ax.set_xticklabels(\n",
    "           [\"Action\",\"Adventure\",\"Fantasy\", \"Sci-Fi\", \"Thriller\", \"Romance\",\n",
    "            \"Animation\", \"Comedy\", \"Family\", \"Musical\", \"Western\", \"Drama\", \"History\",\n",
    "            \"Sport\", \"Crime\", \"Horror\", \"Biography\", \"Mystery\", \"War\", \"Music\", \"Documentary\"])"
   ]
  },
  {
   "cell_type": "code",
   "execution_count": null,
   "metadata": {},
   "outputs": [],
   "source": [
    "#Add all actor3 likes into its respective list\n",
    "\n",
    "action3 = []\n",
    "adventure3 = []\n",
    "fantasy3 = []\n",
    "scifi3 = []\n",
    "thriller3 = []\n",
    "romance3 = []\n",
    "animation3 = []\n",
    "comedy3 = []\n",
    "family3 = []\n",
    "musical3 = []\n",
    "western3 = []\n",
    "drama3 = []\n",
    "history3 = []\n",
    "sport3 = []\n",
    "crime3 = []\n",
    "horror3 = []\n",
    "biography3 = []\n",
    "mystery3 = []\n",
    "war3 = []\n",
    "music3 = []\n",
    "documentary3 = []\n",
    "\n",
    "\n",
    "for i, rows in movies_df.iterrows():\n",
    "    currLikes = rows['actor_3_facebook_likes_log']\n",
    "    if (rows['genres'].find('Action') >= 0):\n",
    "        action3.append(currLikes)\n",
    "    if (rows['genres'].find('Adventure') >= 0):\n",
    "        adventure3.append(currLikes)\n",
    "    if (rows['genres'].find('Fantasy') >= 0):\n",
    "        fantasy3.append(currLikes)\n",
    "    if (rows['genres'].find('Sci-Fi') >= 0):\n",
    "        scifi3.append(currLikes)\n",
    "    if (rows['genres'].find('Thriller') >= 0):\n",
    "        thriller3.append(currLikes)\n",
    "    if (rows['genres'].find('Romance') >= 0):\n",
    "        romance3.append(currLikes)\n",
    "    if (rows['genres'].find('Animation') >= 0):\n",
    "        animation3.append(currLikes)\n",
    "    if (rows['genres'].find('Comedy') >= 0):\n",
    "        comedy3.append(currLikes)\n",
    "    if (rows['genres'].find('Family') >= 0):\n",
    "        family3.append(currLikes)\n",
    "    if (rows['genres'].find('Musical') >= 0):\n",
    "        musical3.append(currLikes)\n",
    "    if (rows['genres'].find('Western') >= 0):\n",
    "        western3.append(currLikes)\n",
    "    if (rows['genres'].find('Drama') >= 0):\n",
    "        drama3.append(currLikes)\n",
    "    if (rows['genres'].find('History') >= 0):\n",
    "        history3.append(currLikes)\n",
    "    if (rows['genres'].find('Sport') >= 0):\n",
    "        sport3.append(currLikes)\n",
    "    if (rows['genres'].find('Crime') >= 0):\n",
    "        crime3.append(currLikes)\n",
    "    if (rows['genres'].find('Horror') >= 0):\n",
    "        horror3.append(currLikes)\n",
    "    if (rows['genres'].find('Biography') >= 0):\n",
    "        biography3.append(currLikes)\n",
    "    if (rows['genres'].find('Mystery') >= 0):\n",
    "        mystery3.append(currLikes)\n",
    "    if (rows['genres'].find('War') >= 0):\n",
    "        war3.append(currLikes)\n",
    "    if (rows['genres'].find('Music') >= 0):\n",
    "        music3.append(currLikes)\n",
    "    if (rows['genres'].find('Documentary') >= 0):\n",
    "        documentary3.append(currLikes)\n",
    "        \n",
    "        \n",
    "actor3Likes = [action3, adventure3, fantasy3, scifi3, thriller3, romance3, animation3,\n",
    "               comedy3,family3 ,musical3 ,western3, drama3, history3 , sport3 , crime3 ,\n",
    "               horror3, biography3 , mystery3 , war3 , music3 ,documentary3]\n",
    "\n",
    "fig = plt.figure(1, figsize=(21, 12))\n",
    "\n",
    "ax = fig.add_subplot(111)\n",
    "\n",
    "bp = ax.boxplot(actor2Likes)\n",
    "\n",
    "ax.set_title('Actor 3 Facebook Likes by Genre', fontsize=30)\n",
    "ax.set_xlabel('Genres', fontsize=25)\n",
    "ax.set_ylabel('Actor 3 Facebook Likes', fontsize=25)\n",
    "ax.set_xticklabels(\n",
    "           [\"Action\",\"Adventure\",\"Fantasy\", \"Sci-Fi\", \"Thriller\", \"Romance\",\n",
    "            \"Animation\", \"Comedy\", \"Family\", \"Musical\", \"Western\", \"Drama\", \"History\",\n",
    "            \"Sport\", \"Crime\", \"Horror\", \"Biography\", \"Mystery\", \"War\", \"Music\", \"Documentary\"])"
   ]
  },
  {
   "cell_type": "code",
   "execution_count": null,
   "metadata": {},
   "outputs": [],
   "source": [
    "#Add all actor1 likes into its respective list\n",
    "\n",
    "actionD = []\n",
    "adventureD = []\n",
    "fantasyD = []\n",
    "scifiD = []\n",
    "thrillerD = []\n",
    "romanceD = []\n",
    "animationD = []\n",
    "comedyD = []\n",
    "familyD = []\n",
    "musicalD = []\n",
    "westernD = []\n",
    "dramaD = []\n",
    "historyD = []\n",
    "sportD = []\n",
    "crimeD = []\n",
    "horrorD = []\n",
    "biographyD = []\n",
    "mysteryD = []\n",
    "warD = []\n",
    "musicD = []\n",
    "documentaryD = []\n",
    "\n",
    "\n",
    "for i, rows in movies_df.iterrows():\n",
    "    currLikes = rows['director_facebook_likes_log']\n",
    "    if (rows['genres'].find('Action') >= 0):\n",
    "        actionD.append(currLikes)\n",
    "    if (rows['genres'].find('Adventure') >= 0):\n",
    "        adventureD.append(currLikes)\n",
    "    if (rows['genres'].find('Fantasy') >= 0):\n",
    "        fantasyD.append(currLikes)\n",
    "    if (rows['genres'].find('Sci-Fi') >= 0):\n",
    "        scifiD.append(currLikes)\n",
    "    if (rows['genres'].find('Thriller') >= 0):\n",
    "        thrillerD.append(currLikes)\n",
    "    if (rows['genres'].find('Romance') >= 0):\n",
    "        romanceD.append(currLikes)\n",
    "    if (rows['genres'].find('Animation') >= 0):\n",
    "        animationD.append(currLikes)\n",
    "    if (rows['genres'].find('Comedy') >= 0):\n",
    "        comedyD.append(currLikes)\n",
    "    if (rows['genres'].find('Family') >= 0):\n",
    "        familyD.append(currLikes)\n",
    "    if (rows['genres'].find('Musical') >= 0):\n",
    "        musicalD.append(currLikes)\n",
    "    if (rows['genres'].find('Western') >= 0):\n",
    "        westernD.append(currLikes)\n",
    "    if (rows['genres'].find('Drama') >= 0):\n",
    "        dramaD.append(currLikes)\n",
    "    if (rows['genres'].find('History') >= 0):\n",
    "        historyD.append(currLikes)\n",
    "    if (rows['genres'].find('Sport') >= 0):\n",
    "        sportD.append(currLikes)\n",
    "    if (rows['genres'].find('Crime') >= 0):\n",
    "        crimeD.append(currLikes)\n",
    "    if (rows['genres'].find('Horror') >= 0):\n",
    "        horrorD.append(currLikes)\n",
    "    if (rows['genres'].find('Biography') >= 0):\n",
    "        biographyD.append(currLikes)\n",
    "    if (rows['genres'].find('Mystery') >= 0):\n",
    "        mysteryD.append(currLikes)\n",
    "    if (rows['genres'].find('War') >= 0):\n",
    "        warD.append(currLikes)\n",
    "    if (rows['genres'].find('Music') >= 0):\n",
    "        musicD.append(currLikes)\n",
    "    if (rows['genres'].find('Documentary') >= 0):\n",
    "        documentaryD.append(currLikes)\n",
    "        \n",
    "        \n",
    "actorDLikes = [actionD, adventureD, fantasyD, scifiD, thrillerD, romanceD, animationD,\n",
    "               comedyD,familyD ,musicalD ,westernD, dramaD, historyD , sportD , crimeD ,\n",
    "               horrorD, biographyD , mysteryD , warD , musicD ,documentaryD]\n",
    "\n",
    "fig = plt.figure(1, figsize=(21, 12))\n",
    "\n",
    "ax = fig.add_subplot(111)\n",
    "\n",
    "bp = plt.boxplot(actorDLikes)\n",
    "\n",
    "ax.set_title('Director Facebook Likes by Genre', fontsize=30)\n",
    "ax.set_xlabel('Genres', fontsize=25)\n",
    "ax.set_ylabel('Director Facebook Likes', fontsize=25)\n",
    "ax.set_xticklabels(\n",
    "           [\"Action\",\"Adventure\",\"Fantasy\", \"Sci-Fi\", \"Thriller\", \"Romance\",\n",
    "            \"Animation\", \"Comedy\", \"Family\", \"Musical\", \"Western\", \"Drama\", \"History\",\n",
    "            \"Sport\", \"Crime\", \"Horror\", \"Biography\", \"Mystery\", \"War\", \"Music\", \"Documentary\"])"
   ]
  },
  {
   "cell_type": "code",
   "execution_count": null,
   "metadata": {},
<<<<<<< HEAD
   "outputs": [],
=======
   "outputs": [
    {
     "name": "stdout",
     "output_type": "stream",
     "text": [
      "                            OLS Regression Results                            \n",
      "==============================================================================\n",
      "Dep. Variable:                  gross   R-squared:                       0.062\n",
      "Model:                            OLS   Adj. R-squared:                  0.062\n",
      "Method:                 Least Squares   F-statistic:                     205.8\n",
      "Date:                Tue, 11 Jun 2019   Prob (F-statistic):           3.03e-45\n",
      "Time:                        17:04:39   Log-Likelihood:                -60699.\n",
      "No. Observations:                3118   AIC:                         1.214e+05\n",
      "Df Residuals:                    3116   BIC:                         1.214e+05\n",
      "Df Model:                           1                                         \n",
      "Covariance Type:            nonrobust                                         \n",
      "==============================================================================================\n",
      "                                 coef    std err          t      P>|t|      [0.025      0.975]\n",
      "----------------------------------------------------------------------------------------------\n",
      "Intercept                  -2.551e+07   5.74e+06     -4.441      0.000   -3.68e+07   -1.42e+07\n",
      "actor_1_facebook_likes_log  2.371e+07   1.65e+06     14.346      0.000    2.05e+07    2.69e+07\n",
      "==============================================================================\n",
      "Omnibus:                     2054.989   Durbin-Watson:                   0.863\n",
      "Prob(Omnibus):                  0.000   Jarque-Bera (JB):            30723.826\n",
      "Skew:                           2.945   Prob(JB):                         0.00\n",
      "Kurtosis:                      17.206   Cond. No.                         17.5\n",
      "==============================================================================\n",
      "\n",
      "Warnings:\n",
      "[1] Standard Errors assume that the covariance matrix of the errors is correctly specified.\n"
     ]
    }
   ],
>>>>>>> 14b2c72bfc95936359e8ce2e3ed1e9eee3360376
   "source": [
    "#Regression Model for actor 1 likes to predict gross income of movie\n",
    "outcome_1, predictors_1 = (\n",
    "    patsy.dmatrices('gross ~ actor_1_facebook_likes_log', movies_df))\n",
    "mod_1 = sm.OLS (outcome_1,predictors_1)\n",
    "res_1 = mod_1.fit()\n",
    "print(res_1.summary())"
   ]
  },
  {
   "cell_type": "code",
   "execution_count": null,
   "metadata": {},
<<<<<<< HEAD
   "outputs": [],
=======
   "outputs": [
    {
     "name": "stdout",
     "output_type": "stream",
     "text": [
      "                            OLS Regression Results                            \n",
      "==============================================================================\n",
      "Dep. Variable:                  gross   R-squared:                       0.235\n",
      "Model:                            OLS   Adj. R-squared:                  0.230\n",
      "Method:                 Least Squares   F-statistic:                     43.30\n",
      "Date:                Tue, 11 Jun 2019   Prob (F-statistic):          5.65e-162\n",
      "Time:                        17:04:39   Log-Likelihood:                -60381.\n",
      "No. Observations:                3118   AIC:                         1.208e+05\n",
      "Df Residuals:                    3095   BIC:                         1.209e+05\n",
      "Df Model:                          22                                         \n",
      "Covariance Type:            nonrobust                                         \n",
      "==============================================================================================\n",
      "                                 coef    std err          t      P>|t|      [0.025      0.975]\n",
      "----------------------------------------------------------------------------------------------\n",
      "Intercept                   -1.01e+07   6.49e+06     -1.557      0.120   -2.28e+07    2.62e+06\n",
      "actor_1_facebook_likes_log  1.938e+07   1.59e+06     12.217      0.000    1.63e+07    2.25e+07\n",
      "Action                      1.848e+07   3.33e+06      5.551      0.000     1.2e+07     2.5e+07\n",
      "Adventure                   3.092e+07   3.56e+06      8.693      0.000    2.39e+07    3.79e+07\n",
      "Fantasy                     1.336e+07   3.68e+06      3.634      0.000    6.15e+06    2.06e+07\n",
      "Scifi                        1.56e+07   3.82e+06      4.086      0.000    8.12e+06    2.31e+07\n",
      "Thriller                   -8.761e+06   3.29e+06     -2.662      0.008   -1.52e+07   -2.31e+06\n",
      "Romance                     2.482e+06    2.9e+06      0.855      0.393   -3.21e+06    8.17e+06\n",
      "Animation                   2.954e+07    6.3e+06      4.692      0.000    1.72e+07    4.19e+07\n",
      "Comedy                     -1.131e+07   2.91e+06     -3.889      0.000    -1.7e+07   -5.61e+06\n",
      "Family                      1.159e+07   4.52e+06      2.567      0.010    2.74e+06    2.04e+07\n",
      "Musical                     9.878e+04    8.7e+06      0.011      0.991    -1.7e+07    1.72e+07\n",
      "Western                    -1.191e+07   9.19e+06     -1.296      0.195   -2.99e+07     6.1e+06\n",
      "Drama                      -1.731e+07   2.83e+06     -6.115      0.000   -2.29e+07   -1.18e+07\n",
      "History                     6.205e+06   7.51e+06      0.826      0.409   -8.53e+06    2.09e+07\n",
      "Sport                      -2.274e+06   5.69e+06     -0.400      0.689   -1.34e+07    8.88e+06\n",
      "Crime                       -5.37e+06   3.37e+06     -1.594      0.111    -1.2e+07    1.24e+06\n",
      "Horror                     -1.751e+07   4.43e+06     -3.954      0.000   -2.62e+07   -8.83e+06\n",
      "Biography                   2.553e+06   5.46e+06      0.468      0.640   -8.16e+06    1.33e+07\n",
      "Mystery                     2.083e+06   4.18e+06      0.498      0.619   -6.12e+06    1.03e+07\n",
      "War                         9.476e+06   7.34e+06      1.291      0.197   -4.92e+06    2.39e+07\n",
      "Music                      -1.782e+06   5.66e+06     -0.315      0.753   -1.29e+07    9.31e+06\n",
      "Documentary                -1.665e+07   8.42e+06     -1.978      0.048   -3.32e+07   -1.41e+05\n",
      "==============================================================================\n",
      "Omnibus:                     1879.100   Durbin-Watson:                   1.190\n",
      "Prob(Omnibus):                  0.000   Jarque-Bera (JB):            28870.984\n",
      "Skew:                           2.581   Prob(JB):                         0.00\n",
      "Kurtosis:                      16.985   Cond. No.                         32.4\n",
      "==============================================================================\n",
      "\n",
      "Warnings:\n",
      "[1] Standard Errors assume that the covariance matrix of the errors is correctly specified.\n"
     ]
    }
   ],
>>>>>>> 14b2c72bfc95936359e8ce2e3ed1e9eee3360376
   "source": [
    "#Regression Model for actor 1 likes with genres to predict gross income of movie\n",
    "outcome_1, predictors_1 = (\n",
    "    patsy.dmatrices('gross ~ actor_1_facebook_likes_log + Action + Adventure + '\n",
    "                    'Fantasy + Scifi + Thriller + Romance + Animation + Comedy + '\n",
    "                    'Family + Musical + Western + Drama + History + Sport + Crime + '\n",
    "                    'Horror + Biography + Mystery + War + Music + Documentary', movies_df))\n",
    "mod_1 = sm.OLS (outcome_1,predictors_1)\n",
    "res_1 = mod_1.fit()\n",
    "print(res_1.summary())"
   ]
  },
  {
   "cell_type": "code",
   "execution_count": null,
   "metadata": {},
<<<<<<< HEAD
   "outputs": [],
=======
   "outputs": [
    {
     "name": "stdout",
     "output_type": "stream",
     "text": [
      "                            OLS Regression Results                            \n",
      "==============================================================================\n",
      "Dep. Variable:                  gross   R-squared:                       0.081\n",
      "Model:                            OLS   Adj. R-squared:                  0.081\n",
      "Method:                 Least Squares   F-statistic:                     275.0\n",
      "Date:                Tue, 11 Jun 2019   Prob (F-statistic):           2.97e-59\n",
      "Time:                        17:04:39   Log-Likelihood:                -60667.\n",
      "No. Observations:                3118   AIC:                         1.213e+05\n",
      "Df Residuals:                    3116   BIC:                         1.214e+05\n",
      "Df Model:                           1                                         \n",
      "Covariance Type:            nonrobust                                         \n",
      "==============================================================================================\n",
      "                                 coef    std err          t      P>|t|      [0.025      0.975]\n",
      "----------------------------------------------------------------------------------------------\n",
      "Intercept                  -3.603e+07   5.62e+06     -6.410      0.000   -4.71e+07    -2.5e+07\n",
      "actor_2_facebook_likes_log   3.19e+07   1.92e+06     16.583      0.000    2.81e+07    3.57e+07\n",
      "==============================================================================\n",
      "Omnibus:                     1992.753   Durbin-Watson:                   0.886\n",
      "Prob(Omnibus):                  0.000   Jarque-Bera (JB):            27647.355\n",
      "Skew:                           2.848   Prob(JB):                         0.00\n",
      "Kurtosis:                      16.430   Cond. No.                         15.0\n",
      "==============================================================================\n",
      "\n",
      "Warnings:\n",
      "[1] Standard Errors assume that the covariance matrix of the errors is correctly specified.\n"
     ]
    }
   ],
>>>>>>> 14b2c72bfc95936359e8ce2e3ed1e9eee3360376
   "source": [
    "#Regression Model for actor 2 likes to predict gross income of movie\n",
    "outcome_2, predictors_2 = (\n",
    "    patsy.dmatrices('gross ~ actor_2_facebook_likes_log', movies_df))\n",
    "mod_2 = sm.OLS (outcome_2,predictors_2)\n",
    "res_2 = mod_2.fit()\n",
    "print(res_2.summary())"
   ]
  },
  {
   "cell_type": "code",
   "execution_count": null,
   "metadata": {},
<<<<<<< HEAD
   "outputs": [],
=======
   "outputs": [
    {
     "name": "stdout",
     "output_type": "stream",
     "text": [
      "                            OLS Regression Results                            \n",
      "==============================================================================\n",
      "Dep. Variable:                  gross   R-squared:                       0.250\n",
      "Model:                            OLS   Adj. R-squared:                  0.245\n",
      "Method:                 Least Squares   F-statistic:                     46.99\n",
      "Date:                Tue, 11 Jun 2019   Prob (F-statistic):          4.58e-175\n",
      "Time:                        17:04:39   Log-Likelihood:                -60350.\n",
      "No. Observations:                3118   AIC:                         1.207e+05\n",
      "Df Residuals:                    3095   BIC:                         1.209e+05\n",
      "Df Model:                          22                                         \n",
      "Covariance Type:            nonrobust                                         \n",
      "==============================================================================================\n",
      "                                 coef    std err          t      P>|t|      [0.025      0.975]\n",
      "----------------------------------------------------------------------------------------------\n",
      "Intercept                  -2.198e+07   6.41e+06     -3.432      0.001   -3.45e+07   -9.42e+06\n",
      "actor_2_facebook_likes_log  2.724e+07   1.86e+06     14.642      0.000    2.36e+07    3.09e+07\n",
      "Action                      1.744e+07    3.3e+06      5.286      0.000     1.1e+07    2.39e+07\n",
      "Adventure                   3.095e+07   3.52e+06      8.794      0.000     2.4e+07    3.79e+07\n",
      "Fantasy                     1.342e+07   3.64e+06      3.689      0.000    6.29e+06    2.06e+07\n",
      "Scifi                        1.51e+07   3.78e+06      3.994      0.000    7.69e+06    2.25e+07\n",
      "Thriller                   -7.679e+06   3.26e+06     -2.359      0.018   -1.41e+07    -1.3e+06\n",
      "Romance                     2.411e+06   2.87e+06      0.839      0.402   -3.23e+06    8.05e+06\n",
      "Animation                   3.118e+07   6.23e+06      5.002      0.000     1.9e+07    4.34e+07\n",
      "Comedy                     -1.266e+07   2.88e+06     -4.396      0.000   -1.83e+07   -7.01e+06\n",
      "Family                      1.115e+07   4.47e+06      2.495      0.013    2.39e+06    1.99e+07\n",
      "Musical                     9.894e+05   8.61e+06      0.115      0.909   -1.59e+07    1.79e+07\n",
      "Western                    -1.208e+07   9.09e+06     -1.328      0.184   -2.99e+07    5.75e+06\n",
      "Drama                      -1.667e+07    2.8e+06     -5.951      0.000   -2.22e+07   -1.12e+07\n",
      "History                     4.491e+06   7.44e+06      0.604      0.546   -1.01e+07    1.91e+07\n",
      "Sport                      -2.398e+06   5.63e+06     -0.426      0.670   -1.34e+07    8.65e+06\n",
      "Crime                      -5.177e+06   3.34e+06     -1.552      0.121   -1.17e+07    1.36e+06\n",
      "Horror                     -1.888e+07   4.37e+06     -4.324      0.000   -2.74e+07   -1.03e+07\n",
      "Biography                    3.89e+06    5.4e+06      0.720      0.472   -6.71e+06    1.45e+07\n",
      "Mystery                     2.689e+06   4.14e+06      0.649      0.516   -5.43e+06    1.08e+07\n",
      "War                         1.118e+07   7.27e+06      1.538      0.124   -3.07e+06    2.54e+07\n",
      "Music                      -3.456e+06   5.59e+06     -0.618      0.537   -1.44e+07    7.51e+06\n",
      "Documentary                -4.118e+06   8.48e+06     -0.486      0.627   -2.07e+07    1.25e+07\n",
      "==============================================================================\n",
      "Omnibus:                     1822.896   Durbin-Watson:                   1.213\n",
      "Prob(Omnibus):                  0.000   Jarque-Bera (JB):            26224.564\n",
      "Skew:                           2.498   Prob(JB):                         0.00\n",
      "Kurtosis:                      16.300   Cond. No.                         28.2\n",
      "==============================================================================\n",
      "\n",
      "Warnings:\n",
      "[1] Standard Errors assume that the covariance matrix of the errors is correctly specified.\n"
     ]
    }
   ],
>>>>>>> 14b2c72bfc95936359e8ce2e3ed1e9eee3360376
   "source": [
    "#Regression Model for actor 2 likes with genres to predict gross income of movie\n",
    "outcome_2, predictors_2 = (\n",
    "    patsy.dmatrices('gross ~ actor_2_facebook_likes_log + Action + Adventure + '\n",
    "                    'Fantasy + Scifi + Thriller + Romance + Animation + Comedy + '\n",
    "                    'Family + Musical + Western + Drama + History + Sport + Crime + '\n",
    "                    'Horror + Biography + Mystery + War + Music + Documentary', movies_df))\n",
    "mod_2 = sm.OLS (outcome_2,predictors_2)\n",
    "res_2 = mod_2.fit()\n",
    "print(res_2.summary())"
   ]
  },
  {
   "cell_type": "code",
   "execution_count": null,
   "metadata": {},
<<<<<<< HEAD
   "outputs": [],
=======
   "outputs": [
    {
     "name": "stdout",
     "output_type": "stream",
     "text": [
      "                            OLS Regression Results                            \n",
      "==============================================================================\n",
      "Dep. Variable:                  gross   R-squared:                       0.069\n",
      "Model:                            OLS   Adj. R-squared:                  0.069\n",
      "Method:                 Least Squares   F-statistic:                     231.6\n",
      "Date:                Tue, 11 Jun 2019   Prob (F-statistic):           1.64e-50\n",
      "Time:                        17:04:39   Log-Likelihood:                -60687.\n",
      "No. Observations:                3118   AIC:                         1.214e+05\n",
      "Df Residuals:                    3116   BIC:                         1.214e+05\n",
      "Df Model:                           1                                         \n",
      "Covariance Type:            nonrobust                                         \n",
      "==============================================================================================\n",
      "                                 coef    std err          t      P>|t|      [0.025      0.975]\n",
      "----------------------------------------------------------------------------------------------\n",
      "Intercept                  -2.248e+07   5.23e+06     -4.294      0.000   -3.27e+07   -1.22e+07\n",
      "actor_3_facebook_likes_log  3.044e+07      2e+06     15.220      0.000    2.65e+07    3.44e+07\n",
      "==============================================================================\n",
      "Omnibus:                     2000.138   Durbin-Watson:                   0.852\n",
      "Prob(Omnibus):                  0.000   Jarque-Bera (JB):            27603.899\n",
      "Skew:                           2.866   Prob(JB):                         0.00\n",
      "Kurtosis:                      16.402   Cond. No.                         12.7\n",
      "==============================================================================\n",
      "\n",
      "Warnings:\n",
      "[1] Standard Errors assume that the covariance matrix of the errors is correctly specified.\n"
     ]
    }
   ],
>>>>>>> 14b2c72bfc95936359e8ce2e3ed1e9eee3360376
   "source": [
    "#Regression Model for actor 3 likes to predict gross income of movie\n",
    "outcome_3, predictors_3 = (\n",
    "    patsy.dmatrices('gross ~ actor_3_facebook_likes_log', movies_df))\n",
    "mod_3 = sm.OLS (outcome_3,predictors_3)\n",
    "res_3 = mod_3.fit()\n",
    "print(res_3.summary())"
   ]
  },
  {
   "cell_type": "code",
   "execution_count": null,
   "metadata": {},
<<<<<<< HEAD
   "outputs": [],
=======
   "outputs": [
    {
     "name": "stdout",
     "output_type": "stream",
     "text": [
      "                            OLS Regression Results                            \n",
      "==============================================================================\n",
      "Dep. Variable:                  gross   R-squared:                       0.239\n",
      "Model:                            OLS   Adj. R-squared:                  0.234\n",
      "Method:                 Least Squares   F-statistic:                     44.24\n",
      "Date:                Tue, 11 Jun 2019   Prob (F-statistic):          2.42e-165\n",
      "Time:                        17:04:39   Log-Likelihood:                -60373.\n",
      "No. Observations:                3118   AIC:                         1.208e+05\n",
      "Df Residuals:                    3095   BIC:                         1.209e+05\n",
      "Df Model:                          22                                         \n",
      "Covariance Type:            nonrobust                                         \n",
      "==============================================================================================\n",
      "                                 coef    std err          t      P>|t|      [0.025      0.975]\n",
      "----------------------------------------------------------------------------------------------\n",
      "Intercept                  -9.331e+06   6.21e+06     -1.503      0.133   -2.15e+07    2.84e+06\n",
      "actor_3_facebook_likes_log  2.535e+07   1.97e+06     12.880      0.000    2.15e+07    2.92e+07\n",
      "Action                      1.763e+07   3.32e+06      5.304      0.000    1.11e+07    2.41e+07\n",
      "Adventure                   3.202e+07   3.54e+06      9.038      0.000    2.51e+07     3.9e+07\n",
      "Fantasy                     1.311e+07   3.67e+06      3.574      0.000    5.92e+06    2.03e+07\n",
      "Scifi                       1.542e+07   3.81e+06      4.050      0.000    7.96e+06    2.29e+07\n",
      "Thriller                   -7.338e+06   3.28e+06     -2.237      0.025   -1.38e+07   -9.07e+05\n",
      "Romance                     2.606e+06    2.9e+06      0.900      0.368   -3.07e+06    8.28e+06\n",
      "Animation                   3.387e+07   6.29e+06      5.388      0.000    2.15e+07    4.62e+07\n",
      "Comedy                     -1.352e+07    2.9e+06     -4.657      0.000   -1.92e+07   -7.82e+06\n",
      "Family                      9.085e+06    4.5e+06      2.018      0.044    2.57e+05    1.79e+07\n",
      "Musical                     1.982e+06   8.68e+06      0.228      0.819    -1.5e+07     1.9e+07\n",
      "Western                    -1.044e+07   9.16e+06     -1.140      0.255   -2.84e+07    7.52e+06\n",
      "Drama                      -1.497e+07   2.82e+06     -5.301      0.000   -2.05e+07   -9.44e+06\n",
      "History                     3.798e+06    7.5e+06      0.507      0.612   -1.09e+07    1.85e+07\n",
      "Sport                      -3.771e+06   5.68e+06     -0.664      0.507   -1.49e+07    7.36e+06\n",
      "Crime                      -4.748e+06   3.36e+06     -1.413      0.158   -1.13e+07    1.84e+06\n",
      "Horror                      -2.01e+07    4.4e+06     -4.573      0.000   -2.87e+07   -1.15e+07\n",
      "Biography                    4.17e+06   5.44e+06      0.766      0.444   -6.51e+06    1.48e+07\n",
      "Mystery                     2.317e+06   4.17e+06      0.555      0.579   -5.87e+06    1.05e+07\n",
      "War                          1.17e+07   7.33e+06      1.597      0.110   -2.67e+06    2.61e+07\n",
      "Music                      -5.003e+06   5.63e+06     -0.888      0.374    -1.6e+07    6.04e+06\n",
      "Documentary                -2.453e+06   8.68e+06     -0.283      0.777   -1.95e+07    1.46e+07\n",
      "==============================================================================\n",
      "Omnibus:                     1819.279   Durbin-Watson:                   1.186\n",
      "Prob(Omnibus):                  0.000   Jarque-Bera (JB):            26000.569\n",
      "Skew:                           2.494   Prob(JB):                         0.00\n",
      "Kurtosis:                      16.238   Cond. No.                         26.0\n",
      "==============================================================================\n",
      "\n",
      "Warnings:\n",
      "[1] Standard Errors assume that the covariance matrix of the errors is correctly specified.\n"
     ]
    }
   ],
>>>>>>> 14b2c72bfc95936359e8ce2e3ed1e9eee3360376
   "source": [
    "#Regression Model for actor 3 likes with genres to predict gross income of movie\n",
    "outcome_3, predictors_3 = (\n",
    "    patsy.dmatrices('gross ~ actor_3_facebook_likes_log + Action + Adventure + '\n",
    "                    'Fantasy + Scifi + Thriller + Romance + Animation + Comedy + '\n",
    "                    'Family + Musical + Western + Drama + History + Sport + Crime + '\n",
    "                    'Horror + Biography + Mystery + War + Music + Documentary', movies_df))\n",
    "mod_3 = sm.OLS (outcome_3,predictors_3)\n",
    "res_3 = mod_3.fit()\n",
    "print(res_3.summary())"
   ]
  },
  {
   "cell_type": "code",
   "execution_count": null,
   "metadata": {},
<<<<<<< HEAD
   "outputs": [],
=======
   "outputs": [
    {
     "name": "stdout",
     "output_type": "stream",
     "text": [
      "                            OLS Regression Results                            \n",
      "==============================================================================\n",
      "Dep. Variable:                  gross   R-squared:                       0.088\n",
      "Model:                            OLS   Adj. R-squared:                  0.087\n",
      "Method:                 Least Squares   F-statistic:                     100.6\n",
      "Date:                Tue, 11 Jun 2019   Prob (F-statistic):           3.77e-62\n",
      "Time:                        17:04:40   Log-Likelihood:                -60655.\n",
      "No. Observations:                3118   AIC:                         1.213e+05\n",
      "Df Residuals:                    3114   BIC:                         1.213e+05\n",
      "Df Model:                           3                                         \n",
      "Covariance Type:            nonrobust                                         \n",
      "==============================================================================================\n",
      "                                 coef    std err          t      P>|t|      [0.025      0.975]\n",
      "----------------------------------------------------------------------------------------------\n",
      "Intercept                  -4.813e+07   6.15e+06     -7.829      0.000   -6.02e+07   -3.61e+07\n",
      "actor_1_facebook_likes_log  8.717e+06   2.32e+06      3.764      0.000    4.18e+06    1.33e+07\n",
      "actor_2_facebook_likes_log  1.639e+07   3.74e+06      4.379      0.000    9.05e+06    2.37e+07\n",
      "actor_3_facebook_likes_log  1.051e+07   3.37e+06      3.122      0.002    3.91e+06    1.71e+07\n",
      "==============================================================================\n",
      "Omnibus:                     2007.867   Durbin-Watson:                   0.896\n",
      "Prob(Omnibus):                  0.000   Jarque-Bera (JB):            28544.002\n",
      "Skew:                           2.869   Prob(JB):                         0.00\n",
      "Kurtosis:                      16.667   Cond. No.                         27.3\n",
      "==============================================================================\n",
      "\n",
      "Warnings:\n",
      "[1] Standard Errors assume that the covariance matrix of the errors is correctly specified.\n"
     ]
    }
   ],
>>>>>>> 14b2c72bfc95936359e8ce2e3ed1e9eee3360376
   "source": [
    "#Regression Model for all actor likes to predict gross income of movie\n",
    "outcome_ag, predictors_ag = (\n",
    "    patsy.dmatrices('gross ~ actor_1_facebook_likes_log + '\n",
    "                    'actor_2_facebook_likes_log + '\n",
    "                    'actor_3_facebook_likes_log', movies_df))\n",
    "mod_ag = sm.OLS (outcome_ag,predictors_ag)\n",
    "res_ag = mod_ag.fit()\n",
    "print(res_ag.summary())"
   ]
  },
  {
   "cell_type": "code",
   "execution_count": null,
   "metadata": {},
<<<<<<< HEAD
   "outputs": [],
=======
   "outputs": [
    {
     "name": "stdout",
     "output_type": "stream",
     "text": [
      "                            OLS Regression Results                            \n",
      "==============================================================================\n",
      "Dep. Variable:                  gross   R-squared:                       0.006\n",
      "Model:                            OLS   Adj. R-squared:                  0.006\n",
      "Method:                 Least Squares   F-statistic:                     19.28\n",
      "Date:                Tue, 11 Jun 2019   Prob (F-statistic):           1.16e-05\n",
      "Time:                        17:04:40   Log-Likelihood:                -60789.\n",
      "No. Observations:                3118   AIC:                         1.216e+05\n",
      "Df Residuals:                    3116   BIC:                         1.216e+05\n",
      "Df Model:                           1                                         \n",
      "Covariance Type:            nonrobust                                         \n",
      "===============================================================================================\n",
      "                                  coef    std err          t      P>|t|      [0.025      0.975]\n",
      "-----------------------------------------------------------------------------------------------\n",
      "Intercept                    4.878e+07    1.9e+06     25.730      0.000    4.51e+07    5.25e+07\n",
      "director_facebook_likes_log  4.122e+06   9.39e+05      4.391      0.000    2.28e+06    5.96e+06\n",
      "==============================================================================\n",
      "Omnibus:                     2091.215   Durbin-Watson:                   0.746\n",
      "Prob(Omnibus):                  0.000   Jarque-Bera (JB):            31103.911\n",
      "Skew:                           3.023   Prob(JB):                         0.00\n",
      "Kurtosis:                      17.243   Cond. No.                         3.46\n",
      "==============================================================================\n",
      "\n",
      "Warnings:\n",
      "[1] Standard Errors assume that the covariance matrix of the errors is correctly specified.\n"
     ]
    }
   ],
>>>>>>> 14b2c72bfc95936359e8ce2e3ed1e9eee3360376
   "source": [
    "#Regression Model for director likes to predict gross income of movie\n",
    "outcome, predictors = (\n",
    "    patsy.dmatrices('gross ~ director_facebook_likes_log', movies_df))\n",
    "mod = sm.OLS (outcome,predictors)\n",
    "res = mod.fit()\n",
    "print(res.summary())"
   ]
  },
  {
   "cell_type": "code",
   "execution_count": null,
   "metadata": {},
<<<<<<< HEAD
   "outputs": [],
=======
   "outputs": [
    {
     "name": "stdout",
     "output_type": "stream",
     "text": [
      "                            OLS Regression Results                            \n",
      "==============================================================================\n",
      "Dep. Variable:                  gross   R-squared:                       0.203\n",
      "Model:                            OLS   Adj. R-squared:                  0.197\n",
      "Method:                 Least Squares   F-statistic:                     35.79\n",
      "Date:                Tue, 11 Jun 2019   Prob (F-statistic):          1.24e-134\n",
      "Time:                        17:04:40   Log-Likelihood:                -60445.\n",
      "No. Observations:                3118   AIC:                         1.209e+05\n",
      "Df Residuals:                    3095   BIC:                         1.211e+05\n",
      "Df Model:                          22                                         \n",
      "Covariance Type:            nonrobust                                         \n",
      "===============================================================================================\n",
      "                                  coef    std err          t      P>|t|      [0.025      0.975]\n",
      "-----------------------------------------------------------------------------------------------\n",
      "Intercept                    5.022e+07   3.94e+06     12.736      0.000    4.25e+07    5.79e+07\n",
      "director_facebook_likes_log  3.511e+06   8.53e+05      4.115      0.000    1.84e+06    5.18e+06\n",
      "Action                       1.877e+07   3.41e+06      5.509      0.000    1.21e+07    2.54e+07\n",
      "Adventure                    3.386e+07   3.62e+06      9.341      0.000    2.67e+07     4.1e+07\n",
      "Fantasy                      1.633e+07   3.75e+06      4.360      0.000    8.99e+06    2.37e+07\n",
      "Scifi                        1.624e+07    3.9e+06      4.166      0.000     8.6e+06    2.39e+07\n",
      "Thriller                    -7.627e+06   3.36e+06     -2.271      0.023   -1.42e+07   -1.04e+06\n",
      "Romance                      2.658e+06   2.96e+06      0.897      0.370   -3.15e+06    8.47e+06\n",
      "Animation                    3.069e+07   6.43e+06      4.772      0.000    1.81e+07    4.33e+07\n",
      "Comedy                      -1.226e+07   2.97e+06     -4.130      0.000   -1.81e+07   -6.44e+06\n",
      "Family                        9.69e+06   4.61e+06      2.103      0.036    6.54e+05    1.87e+07\n",
      "Musical                     -2.809e+06   8.88e+06     -0.316      0.752   -2.02e+07    1.46e+07\n",
      "Western                     -1.129e+07   9.38e+06     -1.204      0.229   -2.97e+07     7.1e+06\n",
      "Drama                        -1.63e+07   2.89e+06     -5.641      0.000    -2.2e+07   -1.06e+07\n",
      "History                      7.564e+06   7.68e+06      0.985      0.325   -7.49e+06    2.26e+07\n",
      "Sport                       -3.095e+06   5.81e+06     -0.533      0.594   -1.45e+07     8.3e+06\n",
      "Crime                       -4.492e+06   3.44e+06     -1.306      0.192   -1.12e+07    2.25e+06\n",
      "Horror                      -2.287e+07    4.5e+06     -5.087      0.000   -3.17e+07   -1.41e+07\n",
      "Biography                    3.526e+06   5.58e+06      0.632      0.528   -7.42e+06    1.45e+07\n",
      "Mystery                      2.482e+06   4.27e+06      0.581      0.561    -5.9e+06    1.09e+07\n",
      "War                          8.444e+06    7.5e+06      1.126      0.260   -6.26e+06    2.31e+07\n",
      "Music                       -6.304e+06   5.77e+06     -1.093      0.274   -1.76e+07       5e+06\n",
      "Documentary                 -3.801e+07   8.39e+06     -4.531      0.000   -5.45e+07   -2.16e+07\n",
      "==============================================================================\n",
      "Omnibus:                     1889.620   Durbin-Watson:                   1.141\n",
      "Prob(Omnibus):                  0.000   Jarque-Bera (JB):            28561.617\n",
      "Skew:                           2.608   Prob(JB):                         0.00\n",
      "Kurtosis:                      16.880   Cond. No.                         19.8\n",
      "==============================================================================\n",
      "\n",
      "Warnings:\n",
      "[1] Standard Errors assume that the covariance matrix of the errors is correctly specified.\n"
     ]
    }
   ],
>>>>>>> 14b2c72bfc95936359e8ce2e3ed1e9eee3360376
   "source": [
    "#Regression Model for director likes with genres to predict gross income of movie\n",
    "outcome, predictors = (\n",
    "    patsy.dmatrices('gross ~ director_facebook_likes_log + Action + Adventure + '\n",
    "                    'Fantasy + Scifi + Thriller + Romance + Animation + Comedy + '\n",
    "                    'Family + Musical + Western + Drama + History + Sport + Crime + '\n",
    "                    'Horror + Biography + Mystery + War + Music + Documentary', movies_df))\n",
    "mod = sm.OLS (outcome,predictors)\n",
    "res = mod.fit()\n",
    "print(res.summary())"
   ]
  },
  {
   "cell_type": "markdown",
   "metadata": {},
   "source": [
    "### Ethics and Privacy Considerations\n",
    "The dataset has some issues of certain facebook likes where certain actors and directors have incorrect listings. For example, the director Spike Lee within the dataset had a listing of 0 facebook likes. However, future observation displayed an official facebook page with 765,000 likes. In addition, we observed duplicate indexed movies in the data set that have inconsistent entries in cast likes as well as number voted users. Although our observation of the data does not include this column, the fact that there are inconsistencies in the first place leads to some doubts about the dataset as a whole. As a result, this potentiates the issue of false data which would give way to incorrect predictions and assessments.\n",
    "\n",
    "In regards to the method in which the data was collected, we do not know for sure as the dataset does not explain their process in cataloging information. However, we have reason to believe that privacy is not infringed upon as most of the information that we will focus on is made public on either IMDb and Facebook. Since we are focusing on Facebook likes, we believe that the potential privacy issues is relatively low as they are metrics generated anonymously. The dataset is also made public on kaggle, a dataset sharing website. "
   ]
  },
  {
   "cell_type": "markdown",
   "metadata": {},
   "source": [
    "### Conclusion & Discussion\n",
    "From observing the regression models, each prediction instance has a low p-value meaning there is a significance to their inclusion in the model. However, the model itself accounts for very little variation demonstrated by the low r-squared. This is mostly explained due to the bimodal distribution of actor and director likes which causes a strict model to form. From this, we conclude that models generated from actor and director Facebook likes serve as poor indicators for a movie’s gross income. Therefore, we reject our hypothesis and posit that there is no correlation of FB likes of actors and directors to a movie’s gross income which is further identified in the low r-values in our scatterplots. In addition, there are confounding variables that influence both likes and gross income such as advertisement or the movie’s release date. Advertisement can bring consumers to movies as well as interest in the actors in the movie. A movie’s release date changes the rate in which consumers are likely to watch movies such as during vacation breaks. These confounding variables could have contributed in the distribution of likes as well.\n",
    "\n",
    "If we had any further resources and time to continue this project, we would have liked other measurements to observe social media presence such as Instagram and Twitter. To coincide the need for better dataset information, we would like the dataset to be updated to relieve rounding as well as inconsistencies. For future use, updates to new releases since the original posting would allow for further observations.\n"
   ]
  }
 ],
 "metadata": {
  "kernelspec": {
   "display_name": "Python 3",
   "language": "python",
   "name": "python3"
  },
  "language_info": {
   "codemirror_mode": {
    "name": "ipython",
    "version": 3
   },
   "file_extension": ".py",
   "mimetype": "text/x-python",
   "name": "python",
   "nbconvert_exporter": "python",
   "pygments_lexer": "ipython3",
   "version": "3.7.3"
  }
 },
 "nbformat": 4,
 "nbformat_minor": 2
}
