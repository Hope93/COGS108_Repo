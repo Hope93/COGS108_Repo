{
 "cells": [
  {
   "cell_type": "code",
   "execution_count": 1,
   "metadata": {},
   "outputs": [],
   "source": [
    "# Import libraries\n",
    "import numpy as np\n",
    "import pandas as pd\n",
    "import matplotlib.pyplot as plt\n",
    "import seaborn as sns\n",
    "\n",
    "# Display plots directly in the notebook instead of in a new window\n",
    "%matplotlib inline\n",
    "\n",
    "# Configure libraries\n",
    "# The seaborn library makes plots look nicer\n",
    "sns.set()\n",
    "sns.set_context('talk')\n",
    "\n",
    "pd.options.display.max_rows = 50\n",
    "pd.options.display.max_columns = 20"
   ]
  },
  {
   "cell_type": "code",
   "execution_count": 2,
   "metadata": {},
   "outputs": [],
   "source": [
    "#Loading Dataset and removing all unobserved columns\n",
    "df_videos = pd.read_csv('movie_metadata.csv')\n",
    "df_videos.drop(df_videos.columns.difference(['movie_title', 'genres', 'title_year', 'imdb_score', 'gross', 'budget', 'num_voted_users', 'num_user_for_reviews', 'num_critic_for_reviews']), 1, inplace=True)\n",
    "\n",
    "##Reordering column titles\n",
    "column_titles = ['movie_title', 'genres', 'title_year', 'imdb_score', 'gross', 'budget', 'num_voted_users', 'num_user_for_reviews', 'num_critic_for_reviews']\n",
    "df_videos = df_videos.reindex(columns=column_titles)"
   ]
  },
  {
   "cell_type": "code",
   "execution_count": 3,
   "metadata": {},
   "outputs": [
    {
     "name": "stdout",
     "output_type": "stream",
     "text": [
      "                                       movie_title  \\\n",
      "0                                          Avatar    \n",
      "1        Pirates of the Caribbean: At World's End    \n",
      "2                                         Spectre    \n",
      "3                           The Dark Knight Rises    \n",
      "5                                     John Carter    \n",
      "6                                    Spider-Man 3    \n",
      "7                                         Tangled    \n",
      "8                         Avengers: Age of Ultron    \n",
      "9          Harry Potter and the Half-Blood Prince    \n",
      "10             Batman v Superman: Dawn of Justice    \n",
      "11                               Superman Returns    \n",
      "12                              Quantum of Solace    \n",
      "13     Pirates of the Caribbean: Dead Man's Chest    \n",
      "14                                The Lone Ranger    \n",
      "15                                   Man of Steel    \n",
      "16       The Chronicles of Narnia: Prince Caspian    \n",
      "17                                   The Avengers    \n",
      "18    Pirates of the Caribbean: On Stranger Tides    \n",
      "19                                 Men in Black 3    \n",
      "20      The Hobbit: The Battle of the Five Armies    \n",
      "21                         The Amazing Spider-Man    \n",
      "22                                     Robin Hood    \n",
      "23            The Hobbit: The Desolation of Smaug    \n",
      "24                             The Golden Compass    \n",
      "25                                      King Kong    \n",
      "...                                            ...   \n",
      "4900                               The Grace Card    \n",
      "4901                            Middle of Nowhere    \n",
      "4904                              Call + Response    \n",
      "4905                                 Side Effects    \n",
      "4915                    The Trials of Darryl Hunt    \n",
      "4922                                      Weekend    \n",
      "4926                                Another Earth    \n",
      "4931                                         Once    \n",
      "4933                                The Horse Boy    \n",
      "4938                    Antarctic Edge: 70° South    \n",
      "4940                                     Top Spin    \n",
      "4947                         Your Sister's Sister    \n",
      "4955                            Facing the Giants    \n",
      "4956                                  The Gallows    \n",
      "4964                                Cheap Thrills    \n",
      "4971                   The Last House on the Left    \n",
      "4978                                       The FP    \n",
      "4979                              Happy Christmas    \n",
      "4987                               Tiny Furniture    \n",
      "5004                      The Legend of God's Gun    \n",
      "5012                                     Sabotage    \n",
      "5021                              The Puffy Chair    \n",
      "5023                             Breaking Upwards    \n",
      "5034                                       Cavite    \n",
      "5037                                    Newlyweds    \n",
      "\n",
      "                                                 genres  title_year  \\\n",
      "0                       Action|Adventure|Fantasy|Sci-Fi      2009.0   \n",
      "1                              Action|Adventure|Fantasy      2007.0   \n",
      "2                             Action|Adventure|Thriller      2015.0   \n",
      "3                                       Action|Thriller      2012.0   \n",
      "5                               Action|Adventure|Sci-Fi      2012.0   \n",
      "6                              Action|Adventure|Romance      2007.0   \n",
      "7     Adventure|Animation|Comedy|Family|Fantasy|Musi...      2010.0   \n",
      "8                               Action|Adventure|Sci-Fi      2015.0   \n",
      "9                      Adventure|Family|Fantasy|Mystery      2009.0   \n",
      "10                              Action|Adventure|Sci-Fi      2016.0   \n",
      "11                              Action|Adventure|Sci-Fi      2006.0   \n",
      "12                                     Action|Adventure      2008.0   \n",
      "13                             Action|Adventure|Fantasy      2006.0   \n",
      "14                             Action|Adventure|Western      2013.0   \n",
      "15                      Action|Adventure|Fantasy|Sci-Fi      2013.0   \n",
      "16                      Action|Adventure|Family|Fantasy      2008.0   \n",
      "17                              Action|Adventure|Sci-Fi      2012.0   \n",
      "18                             Action|Adventure|Fantasy      2011.0   \n",
      "19        Action|Adventure|Comedy|Family|Fantasy|Sci-Fi      2012.0   \n",
      "20                                    Adventure|Fantasy      2014.0   \n",
      "21                             Action|Adventure|Fantasy      2012.0   \n",
      "22                       Action|Adventure|Drama|History      2010.0   \n",
      "23                                    Adventure|Fantasy      2013.0   \n",
      "24                             Adventure|Family|Fantasy      2007.0   \n",
      "25                       Action|Adventure|Drama|Romance      2005.0   \n",
      "...                                                 ...         ...   \n",
      "4900                                              Drama      2010.0   \n",
      "4901                                              Drama      2012.0   \n",
      "4904                          Documentary|History|Music      2008.0   \n",
      "4905                               Crime|Drama|Thriller      2013.0   \n",
      "4915                                  Crime|Documentary      2006.0   \n",
      "4922                                      Drama|Romance      2011.0   \n",
      "4926                               Drama|Romance|Sci-Fi      2011.0   \n",
      "4931                                Drama|Music|Romance      2007.0   \n",
      "4933                                        Documentary      2009.0   \n",
      "4938                              Adventure|Documentary      2015.0   \n",
      "4940                                        Documentary      2014.0   \n",
      "4947                                       Comedy|Drama      2011.0   \n",
      "4955                                        Drama|Sport      2006.0   \n",
      "4956                                    Horror|Thriller      2015.0   \n",
      "4964                 Comedy|Crime|Drama|Horror|Thriller      2013.0   \n",
      "4971                              Crime|Horror|Thriller      2009.0   \n",
      "4978                                             Comedy      2011.0   \n",
      "4979                                       Comedy|Drama      2014.0   \n",
      "4987                               Comedy|Drama|Romance      2010.0   \n",
      "5004                                            Western      2007.0   \n",
      "5012                        Action|Crime|Drama|Thriller      2014.0   \n",
      "5021                               Comedy|Drama|Romance      2005.0   \n",
      "5023                                            Romance      2009.0   \n",
      "5034                                           Thriller      2005.0   \n",
      "5037                                       Comedy|Drama      2011.0   \n",
      "\n",
      "      imdb_score        gross       budget  num_voted_users  \\\n",
      "0            7.9  760505847.0  237000000.0           886204   \n",
      "1            7.1  309404152.0  300000000.0           471220   \n",
      "2            6.8  200074175.0  245000000.0           275868   \n",
      "3            8.5  448130642.0  250000000.0          1144337   \n",
      "5            6.6   73058679.0  263700000.0           212204   \n",
      "6            6.2  336530303.0  258000000.0           383056   \n",
      "7            7.8  200807262.0  260000000.0           294810   \n",
      "8            7.5  458991599.0  250000000.0           462669   \n",
      "9            7.5  301956980.0  250000000.0           321795   \n",
      "10           6.9  330249062.0  250000000.0           371639   \n",
      "11           6.1  200069408.0  209000000.0           240396   \n",
      "12           6.7  168368427.0  200000000.0           330784   \n",
      "13           7.3  423032628.0  225000000.0           522040   \n",
      "14           6.5   89289910.0  215000000.0           181792   \n",
      "15           7.2  291021565.0  225000000.0           548573   \n",
      "16           6.6  141614023.0  225000000.0           149922   \n",
      "17           8.1  623279547.0  220000000.0           995415   \n",
      "18           6.7  241063875.0  250000000.0           370704   \n",
      "19           6.8  179020854.0  225000000.0           268154   \n",
      "20           7.5  255108370.0  250000000.0           354228   \n",
      "21           7.0  262030663.0  230000000.0           451803   \n",
      "22           6.7  105219735.0  200000000.0           211765   \n",
      "23           7.9  258355354.0  225000000.0           483540   \n",
      "24           6.1   70083519.0  180000000.0           149019   \n",
      "25           7.2  218051260.0  207000000.0           316018   \n",
      "...          ...          ...          ...              ...   \n",
      "4900         6.4    2428241.0     200000.0             2099   \n",
      "4901         6.5      78030.0     200000.0             1034   \n",
      "4904         7.5     215185.0     200000.0               48   \n",
      "4905         7.1   32154410.0   30000000.0           148334   \n",
      "4915         7.7       1111.0     200000.0              771   \n",
      "4922         7.7     469947.0     120000.0            19846   \n",
      "4926         7.0    1316074.0     100000.0            71387   \n",
      "4931         7.9    9437933.0     180000.0            90827   \n",
      "4933         7.4     155984.0     160000.0              586   \n",
      "4938         7.0       4914.0     150000.0              123   \n",
      "4940         7.1       5858.0     150000.0              260   \n",
      "4947         6.7    1573712.0     125000.0            21618   \n",
      "4955         6.7   10174663.0     100000.0            12399   \n",
      "4956         4.2   22757819.0     100000.0            13521   \n",
      "4964         6.8      59379.0     200000.0            12796   \n",
      "4971         6.6   32721635.0   15000000.0            67824   \n",
      "4978         5.6      40557.0      60000.0             1389   \n",
      "4979         5.6      30084.0      70000.0             5507   \n",
      "4987         6.3     389804.0      65000.0            11816   \n",
      "5004         4.1     243768.0      30000.0              143   \n",
      "5012         5.7   10499968.0   35000000.0            47502   \n",
      "5021         6.6     192467.0      15000.0             4067   \n",
      "5023         6.2      76382.0      15000.0             1194   \n",
      "5034         6.3      70071.0       7000.0              589   \n",
      "5037         6.4       4584.0       9000.0             1338   \n",
      "\n",
      "      num_user_for_reviews  num_critic_for_reviews  \n",
      "0                   3054.0                   723.0  \n",
      "1                   1238.0                   302.0  \n",
      "2                    994.0                   602.0  \n",
      "3                   2701.0                   813.0  \n",
      "5                    738.0                   462.0  \n",
      "6                   1902.0                   392.0  \n",
      "7                    387.0                   324.0  \n",
      "8                   1117.0                   635.0  \n",
      "9                    973.0                   375.0  \n",
      "10                  3018.0                   673.0  \n",
      "11                  2367.0                   434.0  \n",
      "12                  1243.0                   403.0  \n",
      "13                  1832.0                   313.0  \n",
      "14                   711.0                   450.0  \n",
      "15                  2536.0                   733.0  \n",
      "16                   438.0                   258.0  \n",
      "17                  1722.0                   703.0  \n",
      "18                   484.0                   448.0  \n",
      "19                   341.0                   451.0  \n",
      "20                   802.0                   422.0  \n",
      "21                  1225.0                   599.0  \n",
      "22                   546.0                   343.0  \n",
      "23                   951.0                   509.0  \n",
      "24                   666.0                   251.0  \n",
      "25                  2618.0                   446.0  \n",
      "...                    ...                     ...  \n",
      "4900                  26.0                    25.0  \n",
      "4901                  10.0                    37.0  \n",
      "4904                   2.0                     7.0  \n",
      "4905                 274.0                   450.0  \n",
      "4915                  10.0                    11.0  \n",
      "4922                  68.0                   143.0  \n",
      "4926                 228.0                   242.0  \n",
      "4931                 329.0                   232.0  \n",
      "4933                   9.0                    29.0  \n",
      "4938                   2.0                     5.0  \n",
      "4940                   2.0                    18.0  \n",
      "4947                  62.0                   171.0  \n",
      "4955                 382.0                    31.0  \n",
      "4956                 150.0                   159.0  \n",
      "4964                  52.0                   193.0  \n",
      "4971                 279.0                   241.0  \n",
      "4978                  22.0                    66.0  \n",
      "4979                  23.0                    65.0  \n",
      "4987                  35.0                   113.0  \n",
      "5004                   9.0                     3.0  \n",
      "5012                 212.0                   233.0  \n",
      "5021                  71.0                    51.0  \n",
      "5023                   8.0                    22.0  \n",
      "5034                  35.0                    35.0  \n",
      "5037                  14.0                    14.0  \n",
      "\n",
      "[1965 rows x 9 columns]\n"
     ]
    }
   ],
   "source": [
    "#Dropping all rows that contains null values\n",
    "df_videos = df_videos.dropna(how='any')\n",
    "\n",
    "#Dropping all entries before YouTube's established date of 2005\n",
    "pd.to_numeric(df_videos.title_year)\n",
    "df_videos = df_videos.drop(df_videos[df_videos.title_year < 2005].index)\n",
    "\n",
    "print(df_videos)"
   ]
  },
  {
   "cell_type": "code",
   "execution_count": 4,
   "metadata": {
    "scrolled": true
   },
   "outputs": [
    {
     "name": "stdout",
     "output_type": "stream",
     "text": [
      "491\n",
      "22\n",
      "723\n",
      "204\n"
     ]
    }
   ],
   "source": [
    "#Retrieving all genre\n",
    "\n",
    "action = (sum(df_videos['genres'].str.contains('Action')))\n",
    "western = (sum(df_videos['genres'].str.contains('Western')))\n",
    "comedy = (sum(df_videos['genres'].str.contains('Comedy')))\n",
    "horror = (sum(df_videos['genres'].str.contains('Horror')))\n",
    "\n",
    "print(action)\n",
    "print(western)\n",
    "print(comedy)\n",
    "print(horror)\n",
    "##for entries in df_videos['genres']:\n",
    "    ##x = entries.split(\"|\")\n",
    "    ##for genre_cat in x:\n"
   ]
  },
  {
   "cell_type": "code",
   "execution_count": 8,
   "metadata": {
    "scrolled": false
   },
   "outputs": [
    {
     "data": {
      "text/plain": [
       "([<matplotlib.axis.XTick at 0x2a2e2b0bf28>,\n",
       "  <matplotlib.axis.XTick at 0x2a2e2b0b7b8>,\n",
       "  <matplotlib.axis.XTick at 0x2a2e2e47e80>,\n",
       "  <matplotlib.axis.XTick at 0x2a2e2e47e48>,\n",
       "  <matplotlib.axis.XTick at 0x2a2e2e516d8>,\n",
       "  <matplotlib.axis.XTick at 0x2a2e2e51ba8>,\n",
       "  <matplotlib.axis.XTick at 0x2a2e2b0b4e0>],\n",
       " <a list of 7 Text xticklabel objects>)"
      ]
     },
     "execution_count": 8,
     "metadata": {},
     "output_type": "execute_result"
    },
    {
     "data": {
      "image/png": "[encoded data removed]",
      "text/plain": [
       "<Figure size 432x288 with 1 Axes>"
      ]
     },
     "metadata": {
      "needs_background": "light"
     },
     "output_type": "display_data"
    }
   ],
   "source": [
    "##df_videos.max()\n",
    "##df_videos.min()\n",
    "\n",
    "##Gross for each movie\n",
    "df_videos['gross'] = (df_videos['gross'] / 1000000)\n",
    "hist = df_videos['gross'].plot.hist(bins=20)\n",
    "hist.set_ylabel(\"Movies\")\n",
    "hist.set_xlabel(\"Gross income by Million\")\n",
    "plt.xlim(0,350)\n",
    "plt.xticks(np.arange(0, 350, 50)) \n"
   ]
  },
  {
   "cell_type": "code",
   "execution_count": 6,
   "metadata": {},
   "outputs": [
    {
     "data": {
      "text/plain": [
       "([<matplotlib.axis.XTick at 0x2a2e2b1f2e8>,\n",
       "  <matplotlib.axis.XTick at 0x2a2e2b4fba8>,\n",
       "  <matplotlib.axis.XTick at 0x2a2e29c3278>,\n",
       "  <matplotlib.axis.XTick at 0x2a2e29919b0>,\n",
       "  <matplotlib.axis.XTick at 0x2a2e2991f60>,\n",
       "  <matplotlib.axis.XTick at 0x2a2e2ab6470>],\n",
       " <a list of 6 Text xticklabel objects>)"
      ]
     },
     "execution_count": 6,
     "metadata": {},
     "output_type": "execute_result"
    },
    {
     "data": {
      "image/png": "[encoded data removed]",
      "text/plain": [
       "<Figure size 432x288 with 1 Axes>"
      ]
     },
     "metadata": {
      "needs_background": "light"
     },
     "output_type": "display_data"
    }
   ],
   "source": [
    "df_videos['budget'] = (df_videos['budget'] / 1000000)\n",
    "\n",
    "budget = df_videos['budget'].plot.hist(bins=10)\n",
    "budget.set_ylabel(\"Movies\")\n",
    "budget.set_xlabel(\"Budget income by Million\")\n",
    "plt.xlim(0,300)\n",
    "plt.xticks(np.arange(0, 300, 50)) \n"
   ]
  },
  {
   "cell_type": "code",
   "execution_count": null,
   "metadata": {},
   "outputs": [],
   "source": []
  }
 ],
 "metadata": {
  "kernelspec": {
   "display_name": "Python 3",
   "language": "python",
   "name": "python3"
  },
  "language_info": {
   "codemirror_mode": {
    "name": "ipython",
    "version": 3
   },
   "file_extension": ".py",
   "mimetype": "text/x-python",
   "name": "python",
   "nbconvert_exporter": "python",
   "pygments_lexer": "ipython3",
   "version": "3.7.3"
  }
 },
 "nbformat": 4,
 "nbformat_minor": 2
}
